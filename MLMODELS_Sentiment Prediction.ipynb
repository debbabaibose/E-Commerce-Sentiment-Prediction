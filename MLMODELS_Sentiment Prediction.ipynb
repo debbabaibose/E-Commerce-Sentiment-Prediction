{
 "cells": [
  {
   "cell_type": "code",
   "execution_count": 2,
   "metadata": {},
   "outputs": [],
   "source": [
    "import pandas as pd\n",
    "import numpy as np\n",
    "import scipy\n",
    "import re\n",
    "import string\n",
    "\n",
    "import seaborn as sns\n",
    "import matplotlib.pyplot as plt\n",
    "import scikitplot as skplt\n",
    "from wordcloud import WordCloud\n",
    "\n",
    "\n",
    "from sklearn.model_selection import train_test_split as split\n",
    "from sklearn.model_selection import GridSearchCV\n",
    "from sklearn import metrics\n",
    "from sklearn.metrics import classification_report, confusion_matrix, auc, roc_curve\n",
    "from sklearn.preprocessing import StandardScaler, MinMaxScaler\n",
    "from sklearn.decomposition import PCA\n",
    "\n",
    "from sklearn.tree import DecisionTreeClassifier\n",
    "from sklearn.ensemble import RandomForestClassifier, BaggingClassifier, AdaBoostClassifier, GradientBoostingClassifier\n",
    "from sklearn.neighbors import KNeighborsClassifier\n",
    "from sklearn.naive_bayes import MultinomialNB\n",
    "from sklearn.svm import SVC\n",
    "from sklearn.linear_model import LogisticRegression\n",
    "from xgboost import XGBClassifier\n",
    "import lightgbm as lgb\n",
    "\n",
    "import nltk\n",
    "from nltk.corpus import stopwords\n",
    "from nltk.tokenize import sent_tokenize, word_tokenize, RegexpTokenizer \n",
    "from nltk.stem import PorterStemmer, LancasterStemmer\n",
    "from sklearn.feature_extraction.text import CountVectorizer\n",
    "from sklearn.feature_extraction.text import TfidfTransformer\n",
    "\n",
    "from textblob import TextBlob\n",
    "import warnings\n",
    "warnings.filterwarnings('ignore') \n",
    "\n",
    "from IPython.display import Image\n",
    "\n",
    "%matplotlib inline"
   ]
  },
  {
   "cell_type": "markdown",
   "metadata": {},
   "source": [
    "# Womens Clothing E-Commerce Reviews - NLP"
   ]
  },
  {
   "cell_type": "code",
   "execution_count": 53,
   "metadata": {},
   "outputs": [
    {
     "name": "stdout",
     "output_type": "stream",
     "text": [
      "(23486, 10)\n"
     ]
    },
    {
     "data": {
      "text/html": [
       "<div>\n",
       "<style scoped>\n",
       "    .dataframe tbody tr th:only-of-type {\n",
       "        vertical-align: middle;\n",
       "    }\n",
       "\n",
       "    .dataframe tbody tr th {\n",
       "        vertical-align: top;\n",
       "    }\n",
       "\n",
       "    .dataframe thead th {\n",
       "        text-align: right;\n",
       "    }\n",
       "</style>\n",
       "<table border=\"1\" class=\"dataframe\">\n",
       "  <thead>\n",
       "    <tr style=\"text-align: right;\">\n",
       "      <th></th>\n",
       "      <th>Clothing ID</th>\n",
       "      <th>Age</th>\n",
       "      <th>Title</th>\n",
       "      <th>Review Text</th>\n",
       "      <th>Rating</th>\n",
       "      <th>Recommended IND</th>\n",
       "      <th>Positive Feedback Count</th>\n",
       "      <th>Division Name</th>\n",
       "      <th>Department Name</th>\n",
       "      <th>Class Name</th>\n",
       "    </tr>\n",
       "  </thead>\n",
       "  <tbody>\n",
       "    <tr>\n",
       "      <th>0</th>\n",
       "      <td>767</td>\n",
       "      <td>33</td>\n",
       "      <td>NaN</td>\n",
       "      <td>Absolutely wonderful - silky and sexy and comf...</td>\n",
       "      <td>4</td>\n",
       "      <td>1</td>\n",
       "      <td>0</td>\n",
       "      <td>Initmates</td>\n",
       "      <td>Intimate</td>\n",
       "      <td>Intimates</td>\n",
       "    </tr>\n",
       "    <tr>\n",
       "      <th>1</th>\n",
       "      <td>1080</td>\n",
       "      <td>34</td>\n",
       "      <td>NaN</td>\n",
       "      <td>Love this dress!  it's sooo pretty.  i happene...</td>\n",
       "      <td>5</td>\n",
       "      <td>1</td>\n",
       "      <td>4</td>\n",
       "      <td>General</td>\n",
       "      <td>Dresses</td>\n",
       "      <td>Dresses</td>\n",
       "    </tr>\n",
       "    <tr>\n",
       "      <th>2</th>\n",
       "      <td>1077</td>\n",
       "      <td>60</td>\n",
       "      <td>Some major design flaws</td>\n",
       "      <td>I had such high hopes for this dress and reall...</td>\n",
       "      <td>3</td>\n",
       "      <td>0</td>\n",
       "      <td>0</td>\n",
       "      <td>General</td>\n",
       "      <td>Dresses</td>\n",
       "      <td>Dresses</td>\n",
       "    </tr>\n",
       "  </tbody>\n",
       "</table>\n",
       "</div>"
      ],
      "text/plain": [
       "   Clothing ID  Age                    Title  \\\n",
       "0          767   33                      NaN   \n",
       "1         1080   34                      NaN   \n",
       "2         1077   60  Some major design flaws   \n",
       "\n",
       "                                         Review Text  Rating  Recommended IND  \\\n",
       "0  Absolutely wonderful - silky and sexy and comf...       4                1   \n",
       "1  Love this dress!  it's sooo pretty.  i happene...       5                1   \n",
       "2  I had such high hopes for this dress and reall...       3                0   \n",
       "\n",
       "   Positive Feedback Count Division Name Department Name Class Name  \n",
       "0                        0     Initmates        Intimate  Intimates  \n",
       "1                        4       General         Dresses    Dresses  \n",
       "2                        0       General         Dresses    Dresses  "
      ]
     },
     "execution_count": 53,
     "metadata": {},
     "output_type": "execute_result"
    }
   ],
   "source": [
    "#Importing dataset\n",
    "df = pd.read_csv(\"E-Commerce Reviews.csv\", index_col=0)\n",
    "print(df.shape)\n",
    "df.head(3)"
   ]
  },
  {
   "cell_type": "code",
   "execution_count": 54,
   "metadata": {},
   "outputs": [
    {
     "data": {
      "text/plain": [
       "Rating  Recommended IND\n",
       "1       0                    826\n",
       "        1                     16\n",
       "2       0                   1471\n",
       "        1                     94\n",
       "3       0                   1682\n",
       "        1                   1189\n",
       "4       0                    168\n",
       "        1                   4909\n",
       "5       0                     25\n",
       "        1                  13106\n",
       "Name: Recommended IND, dtype: int64"
      ]
     },
     "execution_count": 54,
     "metadata": {},
     "output_type": "execute_result"
    }
   ],
   "source": [
    "df.groupby(['Rating', 'Recommended IND'])['Recommended IND'].count()"
   ]
  },
  {
   "cell_type": "code",
   "execution_count": 55,
   "metadata": {},
   "outputs": [
    {
     "data": {
      "text/plain": [
       "\"This top is one of my retailer faves! it is so comfortable and love the quality and design. i receive many compliments on this top. i usually wear an xs or s in retailer tops and the xs was a little tight in the arms. the dressing room attendant suggested ordering a petite small so i wouldn't lose the shape. so glad i did. it fits perfect! i even ordered when it was on sale!! the gray color is perfect! its not too thick or thin.\""
      ]
     },
     "execution_count": 55,
     "metadata": {},
     "output_type": "execute_result"
    }
   ],
   "source": [
    "df.loc[(df.Rating==5) & (df['Recommended IND']==0)]['Review Text'].iloc[1]"
   ]
  },
  {
   "cell_type": "code",
   "execution_count": 56,
   "metadata": {},
   "outputs": [
    {
     "data": {
      "text/html": [
       "<div>\n",
       "<style scoped>\n",
       "    .dataframe tbody tr th:only-of-type {\n",
       "        vertical-align: middle;\n",
       "    }\n",
       "\n",
       "    .dataframe tbody tr th {\n",
       "        vertical-align: top;\n",
       "    }\n",
       "\n",
       "    .dataframe thead th {\n",
       "        text-align: right;\n",
       "    }\n",
       "</style>\n",
       "<table border=\"1\" class=\"dataframe\">\n",
       "  <thead>\n",
       "    <tr style=\"text-align: right;\">\n",
       "      <th></th>\n",
       "      <th>Title</th>\n",
       "      <th>Review Text</th>\n",
       "      <th>Recommended IND</th>\n",
       "    </tr>\n",
       "  </thead>\n",
       "  <tbody>\n",
       "    <tr>\n",
       "      <th>0</th>\n",
       "      <td>NaN</td>\n",
       "      <td>Absolutely wonderful - silky and sexy and comf...</td>\n",
       "      <td>1</td>\n",
       "    </tr>\n",
       "    <tr>\n",
       "      <th>1</th>\n",
       "      <td>NaN</td>\n",
       "      <td>Love this dress!  it's sooo pretty.  i happene...</td>\n",
       "      <td>1</td>\n",
       "    </tr>\n",
       "    <tr>\n",
       "      <th>2</th>\n",
       "      <td>Some major design flaws</td>\n",
       "      <td>I had such high hopes for this dress and reall...</td>\n",
       "      <td>0</td>\n",
       "    </tr>\n",
       "    <tr>\n",
       "      <th>3</th>\n",
       "      <td>My favorite buy!</td>\n",
       "      <td>I love, love, love this jumpsuit. it's fun, fl...</td>\n",
       "      <td>1</td>\n",
       "    </tr>\n",
       "    <tr>\n",
       "      <th>4</th>\n",
       "      <td>Flattering shirt</td>\n",
       "      <td>This shirt is very flattering to all due to th...</td>\n",
       "      <td>1</td>\n",
       "    </tr>\n",
       "  </tbody>\n",
       "</table>\n",
       "</div>"
      ],
      "text/plain": [
       "                     Title                                        Review Text  \\\n",
       "0                      NaN  Absolutely wonderful - silky and sexy and comf...   \n",
       "1                      NaN  Love this dress!  it's sooo pretty.  i happene...   \n",
       "2  Some major design flaws  I had such high hopes for this dress and reall...   \n",
       "3         My favorite buy!  I love, love, love this jumpsuit. it's fun, fl...   \n",
       "4         Flattering shirt  This shirt is very flattering to all due to th...   \n",
       "\n",
       "   Recommended IND  \n",
       "0                1  \n",
       "1                1  \n",
       "2                0  \n",
       "3                1  \n",
       "4                1  "
      ]
     },
     "execution_count": 56,
     "metadata": {},
     "output_type": "execute_result"
    }
   ],
   "source": [
    "#Keeping only the columns that has text features\n",
    "text_df = df[['Title', 'Review Text', 'Recommended IND']]\n",
    "text_df.head()"
   ]
  },
  {
   "cell_type": "markdown",
   "metadata": {},
   "source": [
    "### Merging text features:"
   ]
  },
  {
   "cell_type": "code",
   "execution_count": 57,
   "metadata": {},
   "outputs": [
    {
     "data": {
      "text/html": [
       "<div>\n",
       "<style scoped>\n",
       "    .dataframe tbody tr th:only-of-type {\n",
       "        vertical-align: middle;\n",
       "    }\n",
       "\n",
       "    .dataframe tbody tr th {\n",
       "        vertical-align: top;\n",
       "    }\n",
       "\n",
       "    .dataframe thead th {\n",
       "        text-align: right;\n",
       "    }\n",
       "</style>\n",
       "<table border=\"1\" class=\"dataframe\">\n",
       "  <thead>\n",
       "    <tr style=\"text-align: right;\">\n",
       "      <th></th>\n",
       "      <th>Recommended IND</th>\n",
       "      <th>Review</th>\n",
       "    </tr>\n",
       "  </thead>\n",
       "  <tbody>\n",
       "    <tr>\n",
       "      <th>0</th>\n",
       "      <td>1</td>\n",
       "      <td>NaN</td>\n",
       "    </tr>\n",
       "    <tr>\n",
       "      <th>1</th>\n",
       "      <td>1</td>\n",
       "      <td>NaN</td>\n",
       "    </tr>\n",
       "    <tr>\n",
       "      <th>2</th>\n",
       "      <td>0</td>\n",
       "      <td>Some major design flaws I had such high hopes ...</td>\n",
       "    </tr>\n",
       "    <tr>\n",
       "      <th>3</th>\n",
       "      <td>1</td>\n",
       "      <td>My favorite buy! I love, love, love this jumps...</td>\n",
       "    </tr>\n",
       "    <tr>\n",
       "      <th>4</th>\n",
       "      <td>1</td>\n",
       "      <td>Flattering shirt This shirt is very flattering...</td>\n",
       "    </tr>\n",
       "  </tbody>\n",
       "</table>\n",
       "</div>"
      ],
      "text/plain": [
       "   Recommended IND                                             Review\n",
       "0                1                                                NaN\n",
       "1                1                                                NaN\n",
       "2                0  Some major design flaws I had such high hopes ...\n",
       "3                1  My favorite buy! I love, love, love this jumps...\n",
       "4                1  Flattering shirt This shirt is very flattering..."
      ]
     },
     "execution_count": 57,
     "metadata": {},
     "output_type": "execute_result"
    }
   ],
   "source": [
    "text_df['Review'] = text_df['Title'] + ' ' + text_df['Review Text']\n",
    "text_df = text_df.drop(labels=['Title','Review Text'] , axis=1)\n",
    "text_df.head()"
   ]
  },
  {
   "cell_type": "markdown",
   "metadata": {},
   "source": [
    " ### Considering Non- null values:"
   ]
  },
  {
   "cell_type": "code",
   "execution_count": 58,
   "metadata": {},
   "outputs": [
    {
     "data": {
      "text/plain": [
       "3811"
      ]
     },
     "execution_count": 58,
     "metadata": {},
     "output_type": "execute_result"
    }
   ],
   "source": [
    "text_df.Review.isna().sum()"
   ]
  },
  {
   "cell_type": "code",
   "execution_count": 62,
   "metadata": {},
   "outputs": [
    {
     "name": "stdout",
     "output_type": "stream",
     "text": [
      "My data's shape is: (19675, 2)\n"
     ]
    },
    {
     "data": {
      "text/html": [
       "<div>\n",
       "<style scoped>\n",
       "    .dataframe tbody tr th:only-of-type {\n",
       "        vertical-align: middle;\n",
       "    }\n",
       "\n",
       "    .dataframe tbody tr th {\n",
       "        vertical-align: top;\n",
       "    }\n",
       "\n",
       "    .dataframe thead th {\n",
       "        text-align: right;\n",
       "    }\n",
       "</style>\n",
       "<table border=\"1\" class=\"dataframe\">\n",
       "  <thead>\n",
       "    <tr style=\"text-align: right;\">\n",
       "      <th></th>\n",
       "      <th>Recommended</th>\n",
       "      <th>Review</th>\n",
       "    </tr>\n",
       "  </thead>\n",
       "  <tbody>\n",
       "    <tr>\n",
       "      <th>2</th>\n",
       "      <td>0</td>\n",
       "      <td>Some major design flaws I had such high hopes ...</td>\n",
       "    </tr>\n",
       "    <tr>\n",
       "      <th>3</th>\n",
       "      <td>1</td>\n",
       "      <td>My favorite buy! I love, love, love this jumps...</td>\n",
       "    </tr>\n",
       "    <tr>\n",
       "      <th>4</th>\n",
       "      <td>1</td>\n",
       "      <td>Flattering shirt This shirt is very flattering...</td>\n",
       "    </tr>\n",
       "    <tr>\n",
       "      <th>5</th>\n",
       "      <td>0</td>\n",
       "      <td>Not for the very petite I love tracy reese dre...</td>\n",
       "    </tr>\n",
       "    <tr>\n",
       "      <th>6</th>\n",
       "      <td>1</td>\n",
       "      <td>Cagrcoal shimmer fun I aded this in my basket ...</td>\n",
       "    </tr>\n",
       "  </tbody>\n",
       "</table>\n",
       "</div>"
      ],
      "text/plain": [
       "   Recommended                                             Review\n",
       "2            0  Some major design flaws I had such high hopes ...\n",
       "3            1  My favorite buy! I love, love, love this jumps...\n",
       "4            1  Flattering shirt This shirt is very flattering...\n",
       "5            0  Not for the very petite I love tracy reese dre...\n",
       "6            1  Cagrcoal shimmer fun I aded this in my basket ..."
      ]
     },
     "execution_count": 62,
     "metadata": {},
     "output_type": "execute_result"
    }
   ],
   "source": [
    "\n",
    "text_df = text_df[~text_df.Review.isna()]\n",
    "text_df = text_df.rename(columns={\"Recommended IND\": \"Recommended\"})\n",
    "print(\"My data's shape is:\", text_df.shape)\n",
    "text_df.head()"
   ]
  },
  {
   "cell_type": "code",
   "execution_count": 63,
   "metadata": {},
   "outputs": [
    {
     "data": {
      "text/plain": [
       "array([0, 1], dtype=int64)"
      ]
     },
     "execution_count": 63,
     "metadata": {},
     "output_type": "execute_result"
    }
   ],
   "source": [
    "text_df['Recommended'].unique()"
   ]
  },
  {
   "cell_type": "code",
   "execution_count": 64,
   "metadata": {},
   "outputs": [
    {
     "data": {
      "text/plain": [
       "1    0.818297\n",
       "0    0.181703\n",
       "Name: Recommended, dtype: float64"
      ]
     },
     "execution_count": 64,
     "metadata": {},
     "output_type": "execute_result"
    }
   ],
   "source": [
    "#Calculating (after normalising) the unique recomended values\n",
    "text_df['Recommended'].value_counts(normalize=True)"
   ]
  },
  {
   "cell_type": "markdown",
   "metadata": {},
   "source": [
    "### Adding Features"
   ]
  },
  {
   "cell_type": "markdown",
   "metadata": {},
   "source": [
    "##### Text Length:"
   ]
  },
  {
   "cell_type": "code",
   "execution_count": 65,
   "metadata": {},
   "outputs": [
    {
     "name": "stdout",
     "output_type": "stream",
     "text": [
      "(19675, 3)\n"
     ]
    },
    {
     "data": {
      "text/html": [
       "<div>\n",
       "<style scoped>\n",
       "    .dataframe tbody tr th:only-of-type {\n",
       "        vertical-align: middle;\n",
       "    }\n",
       "\n",
       "    .dataframe tbody tr th {\n",
       "        vertical-align: top;\n",
       "    }\n",
       "\n",
       "    .dataframe thead th {\n",
       "        text-align: right;\n",
       "    }\n",
       "</style>\n",
       "<table border=\"1\" class=\"dataframe\">\n",
       "  <thead>\n",
       "    <tr style=\"text-align: right;\">\n",
       "      <th></th>\n",
       "      <th>Recommended</th>\n",
       "      <th>Review</th>\n",
       "      <th>Review_length</th>\n",
       "    </tr>\n",
       "  </thead>\n",
       "  <tbody>\n",
       "    <tr>\n",
       "      <th>2</th>\n",
       "      <td>0</td>\n",
       "      <td>Some major design flaws I had such high hopes ...</td>\n",
       "      <td>524</td>\n",
       "    </tr>\n",
       "    <tr>\n",
       "      <th>3</th>\n",
       "      <td>1</td>\n",
       "      <td>My favorite buy! I love, love, love this jumps...</td>\n",
       "      <td>141</td>\n",
       "    </tr>\n",
       "    <tr>\n",
       "      <th>4</th>\n",
       "      <td>1</td>\n",
       "      <td>Flattering shirt This shirt is very flattering...</td>\n",
       "      <td>209</td>\n",
       "    </tr>\n",
       "    <tr>\n",
       "      <th>5</th>\n",
       "      <td>0</td>\n",
       "      <td>Not for the very petite I love tracy reese dre...</td>\n",
       "      <td>512</td>\n",
       "    </tr>\n",
       "    <tr>\n",
       "      <th>6</th>\n",
       "      <td>1</td>\n",
       "      <td>Cagrcoal shimmer fun I aded this in my basket ...</td>\n",
       "      <td>517</td>\n",
       "    </tr>\n",
       "  </tbody>\n",
       "</table>\n",
       "</div>"
      ],
      "text/plain": [
       "   Recommended                                             Review  \\\n",
       "2            0  Some major design flaws I had such high hopes ...   \n",
       "3            1  My favorite buy! I love, love, love this jumps...   \n",
       "4            1  Flattering shirt This shirt is very flattering...   \n",
       "5            0  Not for the very petite I love tracy reese dre...   \n",
       "6            1  Cagrcoal shimmer fun I aded this in my basket ...   \n",
       "\n",
       "   Review_length  \n",
       "2            524  \n",
       "3            141  \n",
       "4            209  \n",
       "5            512  \n",
       "6            517  "
      ]
     },
     "execution_count": 65,
     "metadata": {},
     "output_type": "execute_result"
    }
   ],
   "source": [
    "#Adding a column \"Review_Length\"\n",
    "text_df['Review_length'] = text_df['Review'].apply(len)\n",
    "print(text_df.shape)\n",
    "text_df.head()"
   ]
  },
  {
   "cell_type": "code",
   "execution_count": 66,
   "metadata": {},
   "outputs": [
    {
     "data": {
      "text/plain": [
       "count    19675.000000\n",
       "mean       338.450267\n",
       "std        144.740126\n",
       "min         23.000000\n",
       "25%        217.000000\n",
       "50%        336.000000\n",
       "75%        496.000000\n",
       "max        557.000000\n",
       "Name: Review_length, dtype: float64"
      ]
     },
     "execution_count": 66,
     "metadata": {},
     "output_type": "execute_result"
    }
   ],
   "source": [
    "text_df['Review_length'].describe()"
   ]
  },
  {
   "cell_type": "code",
   "execution_count": 67,
   "metadata": {},
   "outputs": [],
   "source": [
    "df_zero = text_df[text_df['Recommended']==0]\n",
    "df_one = text_df[text_df['Recommended']==1]"
   ]
  },
  {
   "cell_type": "markdown",
   "metadata": {},
   "source": [
    "##### Exclamation mark counter:"
   ]
  },
  {
   "cell_type": "code",
   "execution_count": 68,
   "metadata": {},
   "outputs": [],
   "source": [
    "#Function for counting number of exclaimation marks\n",
    "def count_exclamation_mark(string_text):\n",
    "    count = 0\n",
    "    for char in string_text:\n",
    "        if char == '!':\n",
    "            count += 1\n",
    "    return count"
   ]
  },
  {
   "cell_type": "code",
   "execution_count": 69,
   "metadata": {},
   "outputs": [
    {
     "data": {
      "text/html": [
       "<div>\n",
       "<style scoped>\n",
       "    .dataframe tbody tr th:only-of-type {\n",
       "        vertical-align: middle;\n",
       "    }\n",
       "\n",
       "    .dataframe tbody tr th {\n",
       "        vertical-align: top;\n",
       "    }\n",
       "\n",
       "    .dataframe thead th {\n",
       "        text-align: right;\n",
       "    }\n",
       "</style>\n",
       "<table border=\"1\" class=\"dataframe\">\n",
       "  <thead>\n",
       "    <tr style=\"text-align: right;\">\n",
       "      <th></th>\n",
       "      <th>Recommended</th>\n",
       "      <th>Review</th>\n",
       "      <th>Review_length</th>\n",
       "      <th>count_exc</th>\n",
       "    </tr>\n",
       "  </thead>\n",
       "  <tbody>\n",
       "    <tr>\n",
       "      <th>2</th>\n",
       "      <td>0</td>\n",
       "      <td>Some major design flaws I had such high hopes ...</td>\n",
       "      <td>524</td>\n",
       "      <td>1</td>\n",
       "    </tr>\n",
       "    <tr>\n",
       "      <th>3</th>\n",
       "      <td>1</td>\n",
       "      <td>My favorite buy! I love, love, love this jumps...</td>\n",
       "      <td>141</td>\n",
       "      <td>3</td>\n",
       "    </tr>\n",
       "    <tr>\n",
       "      <th>4</th>\n",
       "      <td>1</td>\n",
       "      <td>Flattering shirt This shirt is very flattering...</td>\n",
       "      <td>209</td>\n",
       "      <td>3</td>\n",
       "    </tr>\n",
       "    <tr>\n",
       "      <th>5</th>\n",
       "      <td>0</td>\n",
       "      <td>Not for the very petite I love tracy reese dre...</td>\n",
       "      <td>512</td>\n",
       "      <td>0</td>\n",
       "    </tr>\n",
       "    <tr>\n",
       "      <th>6</th>\n",
       "      <td>1</td>\n",
       "      <td>Cagrcoal shimmer fun I aded this in my basket ...</td>\n",
       "      <td>517</td>\n",
       "      <td>0</td>\n",
       "    </tr>\n",
       "  </tbody>\n",
       "</table>\n",
       "</div>"
      ],
      "text/plain": [
       "   Recommended                                             Review  \\\n",
       "2            0  Some major design flaws I had such high hopes ...   \n",
       "3            1  My favorite buy! I love, love, love this jumps...   \n",
       "4            1  Flattering shirt This shirt is very flattering...   \n",
       "5            0  Not for the very petite I love tracy reese dre...   \n",
       "6            1  Cagrcoal shimmer fun I aded this in my basket ...   \n",
       "\n",
       "   Review_length  count_exc  \n",
       "2            524          1  \n",
       "3            141          3  \n",
       "4            209          3  \n",
       "5            512          0  \n",
       "6            517          0  "
      ]
     },
     "execution_count": 69,
     "metadata": {},
     "output_type": "execute_result"
    }
   ],
   "source": [
    "text_df['count_exc'] = text_df['Review'].apply(count_exclamation_mark)\n",
    "text_df.head(5)"
   ]
  },
  {
   "cell_type": "code",
   "execution_count": 70,
   "metadata": {},
   "outputs": [
    {
     "data": {
      "text/plain": [
       "count    19675.000000\n",
       "mean         0.883151\n",
       "std          1.412098\n",
       "min          0.000000\n",
       "25%          0.000000\n",
       "50%          0.000000\n",
       "75%          1.000000\n",
       "max         41.000000\n",
       "Name: count_exc, dtype: float64"
      ]
     },
     "execution_count": 70,
     "metadata": {},
     "output_type": "execute_result"
    }
   ],
   "source": [
    "text_df['count_exc'].describe()"
   ]
  },
  {
   "cell_type": "code",
   "execution_count": 73,
   "metadata": {},
   "outputs": [
    {
     "data": {
      "text/plain": [
       "Int64Index([    2,     9,    15,    19,    20,    22,    24,    29,    33,\n",
       "               45,\n",
       "            ...\n",
       "            23459, 23460, 23465, 23467, 23471, 23473, 23478, 23479, 23481,\n",
       "            23484],\n",
       "           dtype='int64', length=4448)"
      ]
     },
     "execution_count": 73,
     "metadata": {},
     "output_type": "execute_result"
    }
   ],
   "source": [
    "#Checking indicies where count_exc =1\n",
    "text_df[text_df['count_exc']== 1].index"
   ]
  },
  {
   "cell_type": "code",
   "execution_count": 74,
   "metadata": {},
   "outputs": [
    {
     "data": {
      "text/plain": [
       "\"Perfect except slip This is my new favorite dress! my only complaint is the slip is too small and the dress cannot be worn without it. i can't order a size up as the dress would then be huge. not sure what the solution is but the dress itself is stunning.\""
      ]
     },
     "execution_count": 74,
     "metadata": {},
     "output_type": "execute_result"
    }
   ],
   "source": [
    "text_df['Review'][23459]"
   ]
  },
  {
   "cell_type": "markdown",
   "metadata": {},
   "source": [
    "##### Text Polarity"
   ]
  },
  {
   "cell_type": "markdown",
   "metadata": {},
   "source": [
    "Polarity is the emotion expressed in the sentence. It can be positive, neagtive and neutral.\n",
    "\n",
    "The polarity score is a float within the range [-1.0, 1.0]"
   ]
  },
  {
   "cell_type": "code",
   "execution_count": 75,
   "metadata": {},
   "outputs": [
    {
     "data": {
      "text/html": [
       "<div>\n",
       "<style scoped>\n",
       "    .dataframe tbody tr th:only-of-type {\n",
       "        vertical-align: middle;\n",
       "    }\n",
       "\n",
       "    .dataframe tbody tr th {\n",
       "        vertical-align: top;\n",
       "    }\n",
       "\n",
       "    .dataframe thead th {\n",
       "        text-align: right;\n",
       "    }\n",
       "</style>\n",
       "<table border=\"1\" class=\"dataframe\">\n",
       "  <thead>\n",
       "    <tr style=\"text-align: right;\">\n",
       "      <th></th>\n",
       "      <th>Recommended</th>\n",
       "      <th>Review</th>\n",
       "      <th>Review_length</th>\n",
       "      <th>count_exc</th>\n",
       "      <th>Polarity</th>\n",
       "    </tr>\n",
       "  </thead>\n",
       "  <tbody>\n",
       "    <tr>\n",
       "      <th>2</th>\n",
       "      <td>0</td>\n",
       "      <td>Some major design flaws I had such high hopes ...</td>\n",
       "      <td>524</td>\n",
       "      <td>1</td>\n",
       "      <td>0.073209</td>\n",
       "    </tr>\n",
       "    <tr>\n",
       "      <th>3</th>\n",
       "      <td>1</td>\n",
       "      <td>My favorite buy! I love, love, love this jumps...</td>\n",
       "      <td>141</td>\n",
       "      <td>3</td>\n",
       "      <td>0.560714</td>\n",
       "    </tr>\n",
       "    <tr>\n",
       "      <th>4</th>\n",
       "      <td>1</td>\n",
       "      <td>Flattering shirt This shirt is very flattering...</td>\n",
       "      <td>209</td>\n",
       "      <td>3</td>\n",
       "      <td>0.512891</td>\n",
       "    </tr>\n",
       "    <tr>\n",
       "      <th>5</th>\n",
       "      <td>0</td>\n",
       "      <td>Not for the very petite I love tracy reese dre...</td>\n",
       "      <td>512</td>\n",
       "      <td>0</td>\n",
       "      <td>0.181111</td>\n",
       "    </tr>\n",
       "    <tr>\n",
       "      <th>6</th>\n",
       "      <td>1</td>\n",
       "      <td>Cagrcoal shimmer fun I aded this in my basket ...</td>\n",
       "      <td>517</td>\n",
       "      <td>0</td>\n",
       "      <td>0.157500</td>\n",
       "    </tr>\n",
       "  </tbody>\n",
       "</table>\n",
       "</div>"
      ],
      "text/plain": [
       "   Recommended                                             Review  \\\n",
       "2            0  Some major design flaws I had such high hopes ...   \n",
       "3            1  My favorite buy! I love, love, love this jumps...   \n",
       "4            1  Flattering shirt This shirt is very flattering...   \n",
       "5            0  Not for the very petite I love tracy reese dre...   \n",
       "6            1  Cagrcoal shimmer fun I aded this in my basket ...   \n",
       "\n",
       "   Review_length  count_exc  Polarity  \n",
       "2            524          1  0.073209  \n",
       "3            141          3  0.560714  \n",
       "4            209          3  0.512891  \n",
       "5            512          0  0.181111  \n",
       "6            517          0  0.157500  "
      ]
     },
     "execution_count": 75,
     "metadata": {},
     "output_type": "execute_result"
    }
   ],
   "source": [
    "text_df['Polarity'] = text_df['Review'].apply(lambda x: TextBlob(x).sentiment.polarity)\n",
    "text_df.head(5)"
   ]
  },
  {
   "cell_type": "code",
   "execution_count": 76,
   "metadata": {},
   "outputs": [],
   "source": [
    "text_prep = text_df.copy()"
   ]
  },
  {
   "cell_type": "markdown",
   "metadata": {},
   "source": [
    "# Preprocessing - text features"
   ]
  },
  {
   "cell_type": "markdown",
   "metadata": {},
   "source": [
    "### Dropping punctuation"
   ]
  },
  {
   "cell_type": "code",
   "execution_count": 77,
   "metadata": {},
   "outputs": [
    {
     "data": {
      "text/plain": [
       "'!\"#$%&\\'()*+,-./:;<=>?@[\\\\]^_`{|}~'"
      ]
     },
     "execution_count": 77,
     "metadata": {},
     "output_type": "execute_result"
    }
   ],
   "source": [
    "string.punctuation"
   ]
  },
  {
   "cell_type": "code",
   "execution_count": 78,
   "metadata": {},
   "outputs": [],
   "source": [
    "#Function for dropping punctuations\n",
    "def punctuation_removal(messy_str):\n",
    "    clean_list = [char for char in messy_str if char not in string.punctuation]\n",
    "    clean_str = ''.join(clean_list)\n",
    "    return clean_str"
   ]
  },
  {
   "cell_type": "code",
   "execution_count": 79,
   "metadata": {},
   "outputs": [
    {
     "data": {
      "text/plain": [
       "2    Some major design flaws I had such high hopes ...\n",
       "3    My favorite buy I love love love this jumpsuit...\n",
       "4    Flattering shirt This shirt is very flattering...\n",
       "5    Not for the very petite I love tracy reese dre...\n",
       "6    Cagrcoal shimmer fun I aded this in my basket ...\n",
       "Name: Review, dtype: object"
      ]
     },
     "execution_count": 79,
     "metadata": {},
     "output_type": "execute_result"
    }
   ],
   "source": [
    "text_prep['Review'] = text_prep['Review'].apply(punctuation_removal)\n",
    "text_prep['Review'].head()"
   ]
  },
  {
   "cell_type": "markdown",
   "metadata": {},
   "source": [
    "### Part of Speech filter:"
   ]
  },
  {
   "cell_type": "markdown",
   "metadata": {},
   "source": [
    "Mostly adjectives and verbs reflect the positiveness or negativeness of the reviews"
   ]
  },
  {
   "cell_type": "code",
   "execution_count": 80,
   "metadata": {},
   "outputs": [
    {
     "data": {
      "text/html": [
       "<img src=\"http://josecarilloforum.com/imgs/longnounphrase_schematic-1B.png\" width=\"600\" height=\"10\"/>"
      ],
      "text/plain": [
       "<IPython.core.display.Image object>"
      ]
     },
     "execution_count": 80,
     "metadata": {},
     "output_type": "execute_result"
    }
   ],
   "source": [
    "Image(url= \"http://josecarilloforum.com/imgs/longnounphrase_schematic-1B.png\", width=600, height=10)"
   ]
  },
  {
   "cell_type": "code",
   "execution_count": 81,
   "metadata": {},
   "outputs": [],
   "source": [
    "#Collecting verbs and adjectives\n",
    "def adj_collector(review_string):\n",
    "    new_string=[]\n",
    "    review_string = word_tokenize(review_string)\n",
    "    tup_word = nltk.pos_tag(review_string)\n",
    "    for tup in tup_word:\n",
    "        if 'VB' in tup[1] or tup[1]=='JJ':  \n",
    "            new_string.append(tup[0])  \n",
    "    return ' '.join(new_string)"
   ]
  },
  {
   "cell_type": "code",
   "execution_count": 82,
   "metadata": {},
   "outputs": [
    {
     "name": "stderr",
     "output_type": "stream",
     "text": [
      "[nltk_data] Downloading package punkt to C:\\Users\\Dipanjana\n",
      "[nltk_data]     Biswas\\AppData\\Roaming\\nltk_data...\n",
      "[nltk_data]   Package punkt is already up-to-date!\n",
      "[nltk_data] Downloading package averaged_perceptron_tagger to\n",
      "[nltk_data]     C:\\Users\\Dipanjana Biswas\\AppData\\Roaming\\nltk_data...\n",
      "[nltk_data]   Package averaged_perceptron_tagger is already up-to-\n",
      "[nltk_data]       date!\n"
     ]
    },
    {
     "data": {
      "text/plain": [
       "2    major had such high wanted work i ordered smal...\n",
       "3         favorite love love fabulous wear i get great\n",
       "4    Flattering is flattering due adjustable is per...\n",
       "5    petite love reese is petite am tall wear was i...\n",
       "6    aded last see look i went am pale is gorgeous ...\n",
       "7    goes ordered had try used top pair went is nic...\n",
       "8    Flattering love get runs little ordered flatte...\n",
       "Name: Review, dtype: object"
      ]
     },
     "execution_count": 82,
     "metadata": {},
     "output_type": "execute_result"
    }
   ],
   "source": [
    "import nltk\n",
    "nltk.download('punkt')\n",
    "import nltk\n",
    "nltk.download('averaged_perceptron_tagger')\n",
    "text_prep['Review'] = text_prep['Review'].apply(adj_collector)\n",
    "text_prep['Review'].head(7)"
   ]
  },
  {
   "cell_type": "markdown",
   "metadata": {},
   "source": [
    "**Description of Punkt Sentence Tokenizer** This tokenizer divides a text into a list of sentences, by using an unsupervised algorithm to build a model for abbreviation words, collocations, and words that start sentences. It must be trained on a large collection of plaintext in the target language before it can be used."
   ]
  },
  {
   "cell_type": "markdown",
   "metadata": {},
   "source": [
    "### Stopwords Removal"
   ]
  },
  {
   "cell_type": "code",
   "execution_count": 83,
   "metadata": {},
   "outputs": [
    {
     "name": "stdout",
     "output_type": "stream",
     "text": [
      "['i', \"you'd\", 'hers', 'which', 'were', 'a', 'at', 'above', 'again', 'both', 'own', \"don't\", 'aren', 'haven', \"shan't\"]\n"
     ]
    }
   ],
   "source": [
    "print(stopwords.words('english')[::12])"
   ]
  },
  {
   "cell_type": "code",
   "execution_count": 84,
   "metadata": {},
   "outputs": [],
   "source": [
    "stop = stopwords.words('english')\n",
    "stop.append(\"i'm\")"
   ]
  },
  {
   "cell_type": "code",
   "execution_count": 85,
   "metadata": {},
   "outputs": [
    {
     "name": "stdout",
     "output_type": "stream",
     "text": [
      "['i', 'youd', 'hers', 'which', 'were', 'a', 'at', 'above', 'again', 'both', 'own', 'dont', 'aren', 'haven', 'shant']\n"
     ]
    }
   ],
   "source": [
    "stop_words = []\n",
    "\n",
    "for item in stop: \n",
    "    new_item = punctuation_removal(item)\n",
    "    stop_words.append(new_item) \n",
    "print(stop_words[::12])"
   ]
  },
  {
   "cell_type": "markdown",
   "metadata": {},
   "source": [
    "Also adding clothing stopwords:"
   ]
  },
  {
   "cell_type": "code",
   "execution_count": 86,
   "metadata": {},
   "outputs": [],
   "source": [
    "clothes_list =['dress', 'top','sweater','shirt',\n",
    "               'skirt','material', 'white', 'black',\n",
    "              'jeans', 'fabric', 'color','order', 'wear']"
   ]
  },
  {
   "cell_type": "code",
   "execution_count": 87,
   "metadata": {},
   "outputs": [],
   "source": [
    "#Function for removing clothes stopworld\n",
    "def stopwords_removal(messy_str):\n",
    "    messy_str = word_tokenize(messy_str)\n",
    "    return [word.lower() for word in messy_str \n",
    "            if word.lower() not in stop_words and word.lower() not in clothes_list ]"
   ]
  },
  {
   "cell_type": "code",
   "execution_count": 88,
   "metadata": {},
   "outputs": [
    {
     "data": {
      "text/plain": [
       "2    [major, high, wanted, work, ordered, small, us...\n",
       "3         [favorite, love, love, fabulous, get, great]\n",
       "4    [flattering, flattering, due, adjustable, perf...\n",
       "5    [petite, love, reese, petite, tall, long, full...\n",
       "6    [aded, last, see, look, went, pale, gorgeous, ...\n",
       "Name: Review, dtype: object"
      ]
     },
     "execution_count": 88,
     "metadata": {},
     "output_type": "execute_result"
    }
   ],
   "source": [
    "text_prep['Review'] = text_prep['Review'].apply(stopwords_removal)\n",
    "text_prep['Review'].head()"
   ]
  },
  {
   "cell_type": "code",
   "execution_count": 89,
   "metadata": {},
   "outputs": [
    {
     "name": "stdout",
     "output_type": "stream",
     "text": [
      "['unique', 'received', 'artistic', 'casual', 'gorgeous', 'unique', 'runs', 'little', 'feel', 'enhances', 'appropriate', 'overall', 'ordered', 'usual', 'fits']\n"
     ]
    }
   ],
   "source": [
    "print(text_prep['Review'][3301])"
   ]
  },
  {
   "cell_type": "code",
   "execution_count": 90,
   "metadata": {},
   "outputs": [
    {
     "name": "stdout",
     "output_type": "stream",
     "text": [
      "['nice', 'short', 'tall', 'iamp39d', 'say', 'fits', 'true', 'short', 'iamp39m', 'tall', 'wish', 'came']\n"
     ]
    }
   ],
   "source": [
    "print(text_prep['Review'][267]) "
   ]
  },
  {
   "cell_type": "markdown",
   "metadata": {},
   "source": [
    "### Removing all numbers (weight, size etc.)"
   ]
  },
  {
   "cell_type": "code",
   "execution_count": 91,
   "metadata": {},
   "outputs": [],
   "source": [
    "def drop_numbers(list_text):\n",
    "    list_text_new = []\n",
    "    for i in list_text:\n",
    "        if not re.search('\\d', i):\n",
    "            list_text_new.append(i)\n",
    "    return ' '.join(list_text_new)"
   ]
  },
  {
   "cell_type": "code",
   "execution_count": 92,
   "metadata": {},
   "outputs": [
    {
     "data": {
      "text/plain": [
       "2    major high wanted work ordered small usual fou...\n",
       "3                favorite love love fabulous get great\n",
       "4    flattering flattering due adjustable perfect p...\n",
       "5    petite love reese petite tall long full overwh...\n",
       "6    aded last see look went pale gorgeous turns ma...\n",
       "Name: Review, dtype: object"
      ]
     },
     "execution_count": 92,
     "metadata": {},
     "output_type": "execute_result"
    }
   ],
   "source": [
    "text_prep['Review'] = text_prep['Review'].apply(drop_numbers)\n",
    "text_prep['Review'].head()"
   ]
  },
  {
   "cell_type": "code",
   "execution_count": 93,
   "metadata": {},
   "outputs": [
    {
     "name": "stdout",
     "output_type": "stream",
     "text": [
      "nice short tall say fits true short tall wish came\n"
     ]
    }
   ],
   "source": [
    "print(text_prep['Review'][267]) "
   ]
  },
  {
   "cell_type": "code",
   "execution_count": 94,
   "metadata": {},
   "outputs": [
    {
     "name": "stdout",
     "output_type": "stream",
     "text": [
      "flattering purchased return expected fit said lbs got get disappointed soft purchase regular fit looked terrible say tall thin yes short petite\n"
     ]
    }
   ],
   "source": [
    "print(text_prep['Review'][2293])"
   ]
  },
  {
   "cell_type": "markdown",
   "metadata": {},
   "source": [
    "### Stemming"
   ]
  },
  {
   "cell_type": "code",
   "execution_count": 95,
   "metadata": {},
   "outputs": [],
   "source": [
    "porter = PorterStemmer()"
   ]
  },
  {
   "cell_type": "code",
   "execution_count": 96,
   "metadata": {},
   "outputs": [
    {
     "data": {
      "text/plain": [
       "2    [major, high, wanted, work, ordered, small, us...\n",
       "3         [favorite, love, love, fabulous, get, great]\n",
       "4    [flattering, flattering, due, adjustable, perf...\n",
       "5    [petite, love, reese, petite, tall, long, full...\n",
       "6    [aded, last, see, look, went, pale, gorgeous, ...\n",
       "Name: Review, dtype: object"
      ]
     },
     "execution_count": 96,
     "metadata": {},
     "output_type": "execute_result"
    }
   ],
   "source": [
    "text_prep['Review'] = text_prep['Review'].apply(lambda x: x.split())\n",
    "text_prep['Review'].head()"
   ]
  },
  {
   "cell_type": "code",
   "execution_count": 97,
   "metadata": {},
   "outputs": [],
   "source": [
    "def stem_update(text_list):\n",
    "    text_list_new = []\n",
    "    for word in text_list:\n",
    "        word = porter.stem(word)\n",
    "        text_list_new.append(word) \n",
    "    return text_list_new"
   ]
  },
  {
   "cell_type": "code",
   "execution_count": 98,
   "metadata": {},
   "outputs": [
    {
     "data": {
      "text/plain": [
       "2    [major, high, want, work, order, small, usual,...\n",
       "3             [favorit, love, love, fabul, get, great]\n",
       "4    [flatter, flatter, due, adjust, perfect, pair,...\n",
       "5    [petit, love, rees, petit, tall, long, full, o...\n",
       "6    [ade, last, see, look, went, pale, gorgeou, tu...\n",
       "Name: Review, dtype: object"
      ]
     },
     "execution_count": 98,
     "metadata": {},
     "output_type": "execute_result"
    }
   ],
   "source": [
    "text_prep['Review'] = text_prep['Review'].apply(stem_update)\n",
    "text_prep['Review'].head()"
   ]
  },
  {
   "cell_type": "code",
   "execution_count": 99,
   "metadata": {},
   "outputs": [
    {
     "data": {
      "text/plain": [
       "2    major high want work order small usual found s...\n",
       "3                    favorit love love fabul get great\n",
       "4     flatter flatter due adjust perfect pair cardigan\n",
       "5    petit love rees petit tall long full overwhelm...\n",
       "6    ade last see look went pale gorgeou turn mathc...\n",
       "Name: Review, dtype: object"
      ]
     },
     "execution_count": 99,
     "metadata": {},
     "output_type": "execute_result"
    }
   ],
   "source": [
    "text_prep['Review'] = text_prep['Review'].apply(lambda x: ' '.join(x))\n",
    "text_prep['Review'].head()"
   ]
  },
  {
   "cell_type": "code",
   "execution_count": 100,
   "metadata": {},
   "outputs": [
    {
     "name": "stdout",
     "output_type": "stream",
     "text": [
      "flatter purchas return expect fit said lb got get disappoint soft purchas regular fit look terribl say tall thin ye short petit\n"
     ]
    }
   ],
   "source": [
    "print(text_prep['Review'][2293])"
   ]
  },
  {
   "cell_type": "code",
   "execution_count": 101,
   "metadata": {},
   "outputs": [
    {
     "data": {
      "text/html": [
       "<div>\n",
       "<style scoped>\n",
       "    .dataframe tbody tr th:only-of-type {\n",
       "        vertical-align: middle;\n",
       "    }\n",
       "\n",
       "    .dataframe tbody tr th {\n",
       "        vertical-align: top;\n",
       "    }\n",
       "\n",
       "    .dataframe thead th {\n",
       "        text-align: right;\n",
       "    }\n",
       "</style>\n",
       "<table border=\"1\" class=\"dataframe\">\n",
       "  <thead>\n",
       "    <tr style=\"text-align: right;\">\n",
       "      <th></th>\n",
       "      <th>Recommended</th>\n",
       "      <th>Review</th>\n",
       "      <th>Review_length</th>\n",
       "      <th>count_exc</th>\n",
       "      <th>Polarity</th>\n",
       "    </tr>\n",
       "  </thead>\n",
       "  <tbody>\n",
       "    <tr>\n",
       "      <th>3</th>\n",
       "      <td>1</td>\n",
       "      <td>favorit love love fabul get great</td>\n",
       "      <td>141</td>\n",
       "      <td>3</td>\n",
       "      <td>0.560714</td>\n",
       "    </tr>\n",
       "    <tr>\n",
       "      <th>4</th>\n",
       "      <td>1</td>\n",
       "      <td>flatter flatter due adjust perfect pair cardigan</td>\n",
       "      <td>209</td>\n",
       "      <td>3</td>\n",
       "      <td>0.512891</td>\n",
       "    </tr>\n",
       "    <tr>\n",
       "      <th>6</th>\n",
       "      <td>1</td>\n",
       "      <td>ade last see look went pale gorgeou turn mathc...</td>\n",
       "      <td>517</td>\n",
       "      <td>0</td>\n",
       "      <td>0.157500</td>\n",
       "    </tr>\n",
       "  </tbody>\n",
       "</table>\n",
       "</div>"
      ],
      "text/plain": [
       "   Recommended                                             Review  \\\n",
       "3            1                  favorit love love fabul get great   \n",
       "4            1   flatter flatter due adjust perfect pair cardigan   \n",
       "6            1  ade last see look went pale gorgeou turn mathc...   \n",
       "\n",
       "   Review_length  count_exc  Polarity  \n",
       "3            141          3  0.560714  \n",
       "4            209          3  0.512891  \n",
       "6            517          0  0.157500  "
      ]
     },
     "execution_count": 101,
     "metadata": {},
     "output_type": "execute_result"
    }
   ],
   "source": [
    "#Defining two dataframes for recomment = 1 and 0\n",
    "pos_df = text_prep[text_prep.Recommended== 1]\n",
    "neg_df = text_prep[text_prep.Recommended== 0]\n",
    "pos_df.head(3)"
   ]
  },
  {
   "cell_type": "code",
   "execution_count": 102,
   "metadata": {},
   "outputs": [
    {
     "data": {
      "text/plain": [
       "'major high want work order small usual found small small zip reorder petit ok overal comfort fit bottom tight sever cheap imo major net c petit love rees petit tall long full overwhelm small shorten narrow take love work return look cheap run small run order fit tight cheap pull caus rip disappoint go say go look style side purchas knew larg next imposs second look cheap awkward tight look describ'"
      ]
     },
     "execution_count": 102,
     "metadata": {},
     "output_type": "execute_result"
    }
   ],
   "source": [
    "pos_words =[]\n",
    "neg_words = []\n",
    "\n",
    "for review in pos_df.Review:\n",
    "    pos_words.append(review) \n",
    "pos_words = ' '.join(pos_words)\n",
    "pos_words[:40]\n",
    "\n",
    "for review in neg_df.Review:\n",
    "    neg_words.append(review)\n",
    "neg_words = ' '.join(neg_words)\n",
    "neg_words[:400]"
   ]
  },
  {
   "cell_type": "markdown",
   "metadata": {},
   "source": [
    "### Vectorizing - Bag of Words"
   ]
  },
  {
   "cell_type": "code",
   "execution_count": 103,
   "metadata": {},
   "outputs": [
    {
     "data": {
      "text/plain": [
       "2    major high want work order small usual found s...\n",
       "3                    favorit love love fabul get great\n",
       "4     flatter flatter due adjust perfect pair cardigan\n",
       "5    petit love rees petit tall long full overwhelm...\n",
       "6    ade last see look went pale gorgeou turn mathc...\n",
       "Name: Review, dtype: object"
      ]
     },
     "execution_count": 103,
     "metadata": {},
     "output_type": "execute_result"
    }
   ],
   "source": [
    "text_prep['Review'].head()"
   ]
  },
  {
   "cell_type": "code",
   "execution_count": 104,
   "metadata": {},
   "outputs": [],
   "source": [
    "def text_vectorizing_process(sentence_string):\n",
    "    return [word for word in sentence_string.split()]"
   ]
  },
  {
   "cell_type": "code",
   "execution_count": 105,
   "metadata": {},
   "outputs": [],
   "source": [
    "bow_transformer = CountVectorizer(text_vectorizing_process)"
   ]
  },
  {
   "cell_type": "code",
   "execution_count": 106,
   "metadata": {},
   "outputs": [
    {
     "data": {
      "text/plain": [
       "CountVectorizer(input=<function text_vectorizing_process at 0x000001E0FC43EB80>)"
      ]
     },
     "execution_count": 106,
     "metadata": {},
     "output_type": "execute_result"
    }
   ],
   "source": [
    "bow_transformer.fit(text_prep['Review'])"
   ]
  },
  {
   "cell_type": "code",
   "execution_count": 107,
   "metadata": {},
   "outputs": [
    {
     "name": "stdout",
     "output_type": "stream",
     "text": [
      "goe order tri use pair went nice went flare etc big go loos kept wil light sold\n"
     ]
    }
   ],
   "source": [
    "print(text_prep['Review'].iloc[5])"
   ]
  },
  {
   "cell_type": "code",
   "execution_count": 108,
   "metadata": {},
   "outputs": [
    {
     "name": "stdout",
     "output_type": "stream",
     "text": [
      "  (0, 558)\t1\n",
      "  (0, 1960)\t1\n",
      "  (0, 2233)\t1\n",
      "  (0, 2530)\t1\n",
      "  (0, 2535)\t1\n",
      "  (0, 3184)\t1\n",
      "  (0, 3364)\t1\n",
      "  (0, 3483)\t1\n",
      "  (0, 3961)\t1\n",
      "  (0, 4210)\t1\n",
      "  (0, 4318)\t1\n",
      "  (0, 5698)\t1\n",
      "  (0, 6508)\t1\n",
      "  (0, 6806)\t1\n",
      "  (0, 7038)\t2\n",
      "  (0, 7099)\t1\n"
     ]
    }
   ],
   "source": [
    "example = bow_transformer.transform([text_prep['Review'].iloc[5]])\n",
    "print(example)\n",
    "#3507=Love\n",
    "#4438=petit"
   ]
  },
  {
   "cell_type": "code",
   "execution_count": 109,
   "metadata": {},
   "outputs": [
    {
     "data": {
      "text/plain": [
       "<19675x7277 sparse matrix of type '<class 'numpy.int64'>'\n",
       "\twith 237960 stored elements in Compressed Sparse Row format>"
      ]
     },
     "execution_count": 109,
     "metadata": {},
     "output_type": "execute_result"
    }
   ],
   "source": [
    "Reviews = bow_transformer.transform(text_prep['Review'])\n",
    "Reviews"
   ]
  },
  {
   "cell_type": "code",
   "execution_count": 110,
   "metadata": {},
   "outputs": [
    {
     "name": "stdout",
     "output_type": "stream",
     "text": [
      "Shape of Sparse Matrix (19675, 7277)\n",
      "Amount of Non-Zero occurences: 237960\n"
     ]
    }
   ],
   "source": [
    "print('Shape of Sparse Matrix', Reviews.shape)\n",
    "print('Amount of Non-Zero occurences:', Reviews.nnz)"
   ]
  },
  {
   "cell_type": "markdown",
   "metadata": {},
   "source": [
    "# TF-IDF"
   ]
  },
  {
   "cell_type": "markdown",
   "metadata": {},
   "source": [
    "Term Frequency–Inverse Document Frequency"
   ]
  },
  {
   "cell_type": "code",
   "execution_count": 111,
   "metadata": {},
   "outputs": [
    {
     "name": "stdout",
     "output_type": "stream",
     "text": [
      "  (0, 7099)\t0.4167427454376708\n",
      "  (0, 7038)\t0.39932067735983107\n",
      "  (0, 6806)\t0.23624321664553605\n",
      "  (0, 6508)\t0.14356316781797765\n",
      "  (0, 5698)\t0.24271765879383345\n",
      "  (0, 4318)\t0.2282888888923782\n",
      "  (0, 4210)\t0.13416789820124478\n",
      "  (0, 3961)\t0.14974249697911535\n",
      "  (0, 3483)\t0.19757369800246377\n",
      "  (0, 3364)\t0.20362399541945644\n",
      "  (0, 3184)\t0.2558118554959364\n",
      "  (0, 2535)\t0.23649105684594238\n",
      "  (0, 2530)\t0.15650819937169955\n",
      "  (0, 2233)\t0.2641113960879429\n",
      "  (0, 1960)\t0.3385049346514434\n",
      "  (0, 558)\t0.16821017023602194\n"
     ]
    }
   ],
   "source": [
    "tfidf_transformer = TfidfTransformer().fit(Reviews)\n",
    "\n",
    "tfidf_example = tfidf_transformer.transform(example)\n",
    "print (tfidf_example)\n",
    "#3507=Love\n",
    "#4438=petit"
   ]
  },
  {
   "cell_type": "code",
   "execution_count": 112,
   "metadata": {},
   "outputs": [
    {
     "data": {
      "text/plain": [
       "[('loungey', 3505)]"
      ]
     },
     "execution_count": 112,
     "metadata": {},
     "output_type": "execute_result"
    }
   ],
   "source": [
    "[i for i in bow_transformer.vocabulary_.items() if i[1]==3505]"
   ]
  },
  {
   "cell_type": "code",
   "execution_count": 113,
   "metadata": {},
   "outputs": [
    {
     "data": {
      "text/plain": [
       "[('usual', 6813),\n",
       " ('tight', 6383),\n",
       " ('flatter', 2243),\n",
       " ('overwhelm', 4302),\n",
       " ('pale', 4323),\n",
       " ('said', 5133)]"
      ]
     },
     "execution_count": 113,
     "metadata": {},
     "output_type": "execute_result"
    }
   ],
   "source": [
    "[i for i in bow_transformer.vocabulary_.items()][6:60:10]"
   ]
  },
  {
   "cell_type": "code",
   "execution_count": 114,
   "metadata": {},
   "outputs": [
    {
     "data": {
      "text/plain": [
       "(19675, 7277)"
      ]
     },
     "execution_count": 114,
     "metadata": {},
     "output_type": "execute_result"
    }
   ],
   "source": [
    "messages_tfidf = tfidf_transformer.transform(Reviews)\n",
    "messages_tfidf.shape"
   ]
  },
  {
   "cell_type": "code",
   "execution_count": 115,
   "metadata": {},
   "outputs": [
    {
     "name": "stdout",
     "output_type": "stream",
     "text": [
      "  (0, 7273)\t0.21472646647428087\n",
      "  (0, 7159)\t0.12712196996857394\n",
      "  (0, 6930)\t0.12017260570324308\n",
      "  (0, 6813)\t0.1513403250714934\n",
      "  (0, 6383)\t0.14060642619885752\n",
      "  (0, 5601)\t0.29785858576976637\n",
      "  (0, 5290)\t0.18845614450376966\n",
      "  (0, 4943)\t0.2444427546112772\n",
      "  (0, 4438)\t0.13986672876492434\n",
      "  (0, 4260)\t0.15858178150697497\n",
      "  (0, 4210)\t0.1001757163619286\n",
      "  (0, 4138)\t0.20901503445074096\n",
      "  (0, 3944)\t0.30397328049150685\n",
      "  (0, 3584)\t0.5250571838807988\n",
      "  (0, 2934)\t0.3111586573431781\n",
      "  (0, 2769)\t0.14606384138147635\n",
      "  (0, 2364)\t0.15056928107008546\n",
      "  (0, 2197)\t0.08515558755200825\n",
      "  (0, 1153)\t0.10625437706817653\n",
      "  (0, 984)\t0.19198542692781725\n",
      "  (0, 698)\t0.18408106529286453\n"
     ]
    }
   ],
   "source": [
    "print(messages_tfidf[:1]) \n",
    "#tuple(index_num, word_num), tfidf_proba"
   ]
  },
  {
   "cell_type": "markdown",
   "metadata": {},
   "source": [
    "### Merging Sparse matrix with other features"
   ]
  },
  {
   "cell_type": "code",
   "execution_count": 116,
   "metadata": {},
   "outputs": [
    {
     "name": "stdout",
     "output_type": "stream",
     "text": [
      "(19675, 7277)\n"
     ]
    },
    {
     "data": {
      "text/html": [
       "<div>\n",
       "<style scoped>\n",
       "    .dataframe tbody tr th:only-of-type {\n",
       "        vertical-align: middle;\n",
       "    }\n",
       "\n",
       "    .dataframe tbody tr th {\n",
       "        vertical-align: top;\n",
       "    }\n",
       "\n",
       "    .dataframe thead th {\n",
       "        text-align: right;\n",
       "    }\n",
       "</style>\n",
       "<table border=\"1\" class=\"dataframe\">\n",
       "  <thead>\n",
       "    <tr style=\"text-align: right;\">\n",
       "      <th></th>\n",
       "      <th>0</th>\n",
       "      <th>1</th>\n",
       "      <th>2</th>\n",
       "      <th>3</th>\n",
       "      <th>4</th>\n",
       "      <th>5</th>\n",
       "      <th>6</th>\n",
       "      <th>7</th>\n",
       "      <th>8</th>\n",
       "      <th>9</th>\n",
       "      <th>...</th>\n",
       "      <th>7267</th>\n",
       "      <th>7268</th>\n",
       "      <th>7269</th>\n",
       "      <th>7270</th>\n",
       "      <th>7271</th>\n",
       "      <th>7272</th>\n",
       "      <th>7273</th>\n",
       "      <th>7274</th>\n",
       "      <th>7275</th>\n",
       "      <th>7276</th>\n",
       "    </tr>\n",
       "  </thead>\n",
       "  <tbody>\n",
       "    <tr>\n",
       "      <th>0</th>\n",
       "      <td>0.0</td>\n",
       "      <td>0.0</td>\n",
       "      <td>0.0</td>\n",
       "      <td>0.0</td>\n",
       "      <td>0.0</td>\n",
       "      <td>0.0</td>\n",
       "      <td>0.0</td>\n",
       "      <td>0.0</td>\n",
       "      <td>0.0</td>\n",
       "      <td>0.0</td>\n",
       "      <td>...</td>\n",
       "      <td>0.0</td>\n",
       "      <td>0.0</td>\n",
       "      <td>0.0</td>\n",
       "      <td>0.0</td>\n",
       "      <td>0.0</td>\n",
       "      <td>0.0</td>\n",
       "      <td>0.214726</td>\n",
       "      <td>0.0</td>\n",
       "      <td>0.0</td>\n",
       "      <td>0.0</td>\n",
       "    </tr>\n",
       "    <tr>\n",
       "      <th>1</th>\n",
       "      <td>0.0</td>\n",
       "      <td>0.0</td>\n",
       "      <td>0.0</td>\n",
       "      <td>0.0</td>\n",
       "      <td>0.0</td>\n",
       "      <td>0.0</td>\n",
       "      <td>0.0</td>\n",
       "      <td>0.0</td>\n",
       "      <td>0.0</td>\n",
       "      <td>0.0</td>\n",
       "      <td>...</td>\n",
       "      <td>0.0</td>\n",
       "      <td>0.0</td>\n",
       "      <td>0.0</td>\n",
       "      <td>0.0</td>\n",
       "      <td>0.0</td>\n",
       "      <td>0.0</td>\n",
       "      <td>0.000000</td>\n",
       "      <td>0.0</td>\n",
       "      <td>0.0</td>\n",
       "      <td>0.0</td>\n",
       "    </tr>\n",
       "    <tr>\n",
       "      <th>2</th>\n",
       "      <td>0.0</td>\n",
       "      <td>0.0</td>\n",
       "      <td>0.0</td>\n",
       "      <td>0.0</td>\n",
       "      <td>0.0</td>\n",
       "      <td>0.0</td>\n",
       "      <td>0.0</td>\n",
       "      <td>0.0</td>\n",
       "      <td>0.0</td>\n",
       "      <td>0.0</td>\n",
       "      <td>...</td>\n",
       "      <td>0.0</td>\n",
       "      <td>0.0</td>\n",
       "      <td>0.0</td>\n",
       "      <td>0.0</td>\n",
       "      <td>0.0</td>\n",
       "      <td>0.0</td>\n",
       "      <td>0.000000</td>\n",
       "      <td>0.0</td>\n",
       "      <td>0.0</td>\n",
       "      <td>0.0</td>\n",
       "    </tr>\n",
       "    <tr>\n",
       "      <th>3</th>\n",
       "      <td>0.0</td>\n",
       "      <td>0.0</td>\n",
       "      <td>0.0</td>\n",
       "      <td>0.0</td>\n",
       "      <td>0.0</td>\n",
       "      <td>0.0</td>\n",
       "      <td>0.0</td>\n",
       "      <td>0.0</td>\n",
       "      <td>0.0</td>\n",
       "      <td>0.0</td>\n",
       "      <td>...</td>\n",
       "      <td>0.0</td>\n",
       "      <td>0.0</td>\n",
       "      <td>0.0</td>\n",
       "      <td>0.0</td>\n",
       "      <td>0.0</td>\n",
       "      <td>0.0</td>\n",
       "      <td>0.000000</td>\n",
       "      <td>0.0</td>\n",
       "      <td>0.0</td>\n",
       "      <td>0.0</td>\n",
       "    </tr>\n",
       "    <tr>\n",
       "      <th>4</th>\n",
       "      <td>0.0</td>\n",
       "      <td>0.0</td>\n",
       "      <td>0.0</td>\n",
       "      <td>0.0</td>\n",
       "      <td>0.0</td>\n",
       "      <td>0.0</td>\n",
       "      <td>0.0</td>\n",
       "      <td>0.0</td>\n",
       "      <td>0.0</td>\n",
       "      <td>0.0</td>\n",
       "      <td>...</td>\n",
       "      <td>0.0</td>\n",
       "      <td>0.0</td>\n",
       "      <td>0.0</td>\n",
       "      <td>0.0</td>\n",
       "      <td>0.0</td>\n",
       "      <td>0.0</td>\n",
       "      <td>0.000000</td>\n",
       "      <td>0.0</td>\n",
       "      <td>0.0</td>\n",
       "      <td>0.0</td>\n",
       "    </tr>\n",
       "  </tbody>\n",
       "</table>\n",
       "<p>5 rows × 7277 columns</p>\n",
       "</div>"
      ],
      "text/plain": [
       "   0     1     2     3     4     5     6     7     8     9     ...  7267  \\\n",
       "0   0.0   0.0   0.0   0.0   0.0   0.0   0.0   0.0   0.0   0.0  ...   0.0   \n",
       "1   0.0   0.0   0.0   0.0   0.0   0.0   0.0   0.0   0.0   0.0  ...   0.0   \n",
       "2   0.0   0.0   0.0   0.0   0.0   0.0   0.0   0.0   0.0   0.0  ...   0.0   \n",
       "3   0.0   0.0   0.0   0.0   0.0   0.0   0.0   0.0   0.0   0.0  ...   0.0   \n",
       "4   0.0   0.0   0.0   0.0   0.0   0.0   0.0   0.0   0.0   0.0  ...   0.0   \n",
       "\n",
       "   7268  7269  7270  7271  7272      7273  7274  7275  7276  \n",
       "0   0.0   0.0   0.0   0.0   0.0  0.214726   0.0   0.0   0.0  \n",
       "1   0.0   0.0   0.0   0.0   0.0  0.000000   0.0   0.0   0.0  \n",
       "2   0.0   0.0   0.0   0.0   0.0  0.000000   0.0   0.0   0.0  \n",
       "3   0.0   0.0   0.0   0.0   0.0  0.000000   0.0   0.0   0.0  \n",
       "4   0.0   0.0   0.0   0.0   0.0  0.000000   0.0   0.0   0.0  \n",
       "\n",
       "[5 rows x 7277 columns]"
      ]
     },
     "execution_count": 116,
     "metadata": {},
     "output_type": "execute_result"
    }
   ],
   "source": [
    "messages_tfidf = messages_tfidf.toarray()\n",
    "messages_tfidf = pd.DataFrame(messages_tfidf)\n",
    "print(messages_tfidf.shape)\n",
    "messages_tfidf.head()"
   ]
  },
  {
   "cell_type": "code",
   "execution_count": 117,
   "metadata": {},
   "outputs": [
    {
     "data": {
      "text/html": [
       "<div>\n",
       "<style scoped>\n",
       "    .dataframe tbody tr th:only-of-type {\n",
       "        vertical-align: middle;\n",
       "    }\n",
       "\n",
       "    .dataframe tbody tr th {\n",
       "        vertical-align: top;\n",
       "    }\n",
       "\n",
       "    .dataframe thead th {\n",
       "        text-align: right;\n",
       "    }\n",
       "</style>\n",
       "<table border=\"1\" class=\"dataframe\">\n",
       "  <thead>\n",
       "    <tr style=\"text-align: right;\">\n",
       "      <th></th>\n",
       "      <th>Recommended</th>\n",
       "      <th>Review_length</th>\n",
       "      <th>count_exc</th>\n",
       "      <th>Polarity</th>\n",
       "      <th>0</th>\n",
       "      <th>1</th>\n",
       "      <th>2</th>\n",
       "      <th>3</th>\n",
       "      <th>4</th>\n",
       "      <th>5</th>\n",
       "      <th>...</th>\n",
       "      <th>7267</th>\n",
       "      <th>7268</th>\n",
       "      <th>7269</th>\n",
       "      <th>7270</th>\n",
       "      <th>7271</th>\n",
       "      <th>7272</th>\n",
       "      <th>7273</th>\n",
       "      <th>7274</th>\n",
       "      <th>7275</th>\n",
       "      <th>7276</th>\n",
       "    </tr>\n",
       "  </thead>\n",
       "  <tbody>\n",
       "    <tr>\n",
       "      <th>2</th>\n",
       "      <td>0</td>\n",
       "      <td>524</td>\n",
       "      <td>1</td>\n",
       "      <td>0.073209</td>\n",
       "      <td>0.0</td>\n",
       "      <td>0.0</td>\n",
       "      <td>0.0</td>\n",
       "      <td>0.0</td>\n",
       "      <td>0.0</td>\n",
       "      <td>0.0</td>\n",
       "      <td>...</td>\n",
       "      <td>0.0</td>\n",
       "      <td>0.0</td>\n",
       "      <td>0.0</td>\n",
       "      <td>0.0</td>\n",
       "      <td>0.0</td>\n",
       "      <td>0.0</td>\n",
       "      <td>0.0</td>\n",
       "      <td>0.0</td>\n",
       "      <td>0.0</td>\n",
       "      <td>0.0</td>\n",
       "    </tr>\n",
       "    <tr>\n",
       "      <th>3</th>\n",
       "      <td>1</td>\n",
       "      <td>141</td>\n",
       "      <td>3</td>\n",
       "      <td>0.560714</td>\n",
       "      <td>0.0</td>\n",
       "      <td>0.0</td>\n",
       "      <td>0.0</td>\n",
       "      <td>0.0</td>\n",
       "      <td>0.0</td>\n",
       "      <td>0.0</td>\n",
       "      <td>...</td>\n",
       "      <td>0.0</td>\n",
       "      <td>0.0</td>\n",
       "      <td>0.0</td>\n",
       "      <td>0.0</td>\n",
       "      <td>0.0</td>\n",
       "      <td>0.0</td>\n",
       "      <td>0.0</td>\n",
       "      <td>0.0</td>\n",
       "      <td>0.0</td>\n",
       "      <td>0.0</td>\n",
       "    </tr>\n",
       "    <tr>\n",
       "      <th>4</th>\n",
       "      <td>1</td>\n",
       "      <td>209</td>\n",
       "      <td>3</td>\n",
       "      <td>0.512891</td>\n",
       "      <td>0.0</td>\n",
       "      <td>0.0</td>\n",
       "      <td>0.0</td>\n",
       "      <td>0.0</td>\n",
       "      <td>0.0</td>\n",
       "      <td>0.0</td>\n",
       "      <td>...</td>\n",
       "      <td>0.0</td>\n",
       "      <td>0.0</td>\n",
       "      <td>0.0</td>\n",
       "      <td>0.0</td>\n",
       "      <td>0.0</td>\n",
       "      <td>0.0</td>\n",
       "      <td>0.0</td>\n",
       "      <td>0.0</td>\n",
       "      <td>0.0</td>\n",
       "      <td>0.0</td>\n",
       "    </tr>\n",
       "    <tr>\n",
       "      <th>5</th>\n",
       "      <td>0</td>\n",
       "      <td>512</td>\n",
       "      <td>0</td>\n",
       "      <td>0.181111</td>\n",
       "      <td>0.0</td>\n",
       "      <td>0.0</td>\n",
       "      <td>0.0</td>\n",
       "      <td>0.0</td>\n",
       "      <td>0.0</td>\n",
       "      <td>0.0</td>\n",
       "      <td>...</td>\n",
       "      <td>0.0</td>\n",
       "      <td>0.0</td>\n",
       "      <td>0.0</td>\n",
       "      <td>0.0</td>\n",
       "      <td>0.0</td>\n",
       "      <td>0.0</td>\n",
       "      <td>0.0</td>\n",
       "      <td>0.0</td>\n",
       "      <td>0.0</td>\n",
       "      <td>0.0</td>\n",
       "    </tr>\n",
       "    <tr>\n",
       "      <th>6</th>\n",
       "      <td>1</td>\n",
       "      <td>517</td>\n",
       "      <td>0</td>\n",
       "      <td>0.157500</td>\n",
       "      <td>0.0</td>\n",
       "      <td>0.0</td>\n",
       "      <td>0.0</td>\n",
       "      <td>0.0</td>\n",
       "      <td>0.0</td>\n",
       "      <td>0.0</td>\n",
       "      <td>...</td>\n",
       "      <td>0.0</td>\n",
       "      <td>0.0</td>\n",
       "      <td>0.0</td>\n",
       "      <td>0.0</td>\n",
       "      <td>0.0</td>\n",
       "      <td>0.0</td>\n",
       "      <td>0.0</td>\n",
       "      <td>0.0</td>\n",
       "      <td>0.0</td>\n",
       "      <td>0.0</td>\n",
       "    </tr>\n",
       "  </tbody>\n",
       "</table>\n",
       "<p>5 rows × 7281 columns</p>\n",
       "</div>"
      ],
      "text/plain": [
       "   Recommended  Review_length  count_exc  Polarity    0    1    2    3    4  \\\n",
       "2            0            524          1  0.073209  0.0  0.0  0.0  0.0  0.0   \n",
       "3            1            141          3  0.560714  0.0  0.0  0.0  0.0  0.0   \n",
       "4            1            209          3  0.512891  0.0  0.0  0.0  0.0  0.0   \n",
       "5            0            512          0  0.181111  0.0  0.0  0.0  0.0  0.0   \n",
       "6            1            517          0  0.157500  0.0  0.0  0.0  0.0  0.0   \n",
       "\n",
       "     5  ...  7267  7268  7269  7270  7271  7272  7273  7274  7275  7276  \n",
       "2  0.0  ...   0.0   0.0   0.0   0.0   0.0   0.0   0.0   0.0   0.0   0.0  \n",
       "3  0.0  ...   0.0   0.0   0.0   0.0   0.0   0.0   0.0   0.0   0.0   0.0  \n",
       "4  0.0  ...   0.0   0.0   0.0   0.0   0.0   0.0   0.0   0.0   0.0   0.0  \n",
       "5  0.0  ...   0.0   0.0   0.0   0.0   0.0   0.0   0.0   0.0   0.0   0.0  \n",
       "6  0.0  ...   0.0   0.0   0.0   0.0   0.0   0.0   0.0   0.0   0.0   0.0  \n",
       "\n",
       "[5 rows x 7281 columns]"
      ]
     },
     "execution_count": 117,
     "metadata": {},
     "output_type": "execute_result"
    }
   ],
   "source": [
    "df_all = pd.merge(text_prep.drop(columns='Review'),messages_tfidf, \n",
    "                  left_index=True, right_index=True )\n",
    "df_all.head()"
   ]
  },
  {
   "cell_type": "markdown",
   "metadata": {},
   "source": [
    "## Splitting the data"
   ]
  },
  {
   "cell_type": "code",
   "execution_count": 118,
   "metadata": {},
   "outputs": [
    {
     "data": {
      "text/html": [
       "<div>\n",
       "<style scoped>\n",
       "    .dataframe tbody tr th:only-of-type {\n",
       "        vertical-align: middle;\n",
       "    }\n",
       "\n",
       "    .dataframe tbody tr th {\n",
       "        vertical-align: top;\n",
       "    }\n",
       "\n",
       "    .dataframe thead th {\n",
       "        text-align: right;\n",
       "    }\n",
       "</style>\n",
       "<table border=\"1\" class=\"dataframe\">\n",
       "  <thead>\n",
       "    <tr style=\"text-align: right;\">\n",
       "      <th></th>\n",
       "      <th>Review_length</th>\n",
       "      <th>count_exc</th>\n",
       "      <th>Polarity</th>\n",
       "      <th>0</th>\n",
       "      <th>1</th>\n",
       "      <th>2</th>\n",
       "      <th>3</th>\n",
       "      <th>4</th>\n",
       "      <th>5</th>\n",
       "      <th>6</th>\n",
       "      <th>...</th>\n",
       "      <th>7267</th>\n",
       "      <th>7268</th>\n",
       "      <th>7269</th>\n",
       "      <th>7270</th>\n",
       "      <th>7271</th>\n",
       "      <th>7272</th>\n",
       "      <th>7273</th>\n",
       "      <th>7274</th>\n",
       "      <th>7275</th>\n",
       "      <th>7276</th>\n",
       "    </tr>\n",
       "  </thead>\n",
       "  <tbody>\n",
       "    <tr>\n",
       "      <th>2</th>\n",
       "      <td>524</td>\n",
       "      <td>1</td>\n",
       "      <td>0.073209</td>\n",
       "      <td>0.0</td>\n",
       "      <td>0.0</td>\n",
       "      <td>0.0</td>\n",
       "      <td>0.0</td>\n",
       "      <td>0.0</td>\n",
       "      <td>0.0</td>\n",
       "      <td>0.0</td>\n",
       "      <td>...</td>\n",
       "      <td>0.0</td>\n",
       "      <td>0.0</td>\n",
       "      <td>0.0</td>\n",
       "      <td>0.0</td>\n",
       "      <td>0.0</td>\n",
       "      <td>0.0</td>\n",
       "      <td>0.0</td>\n",
       "      <td>0.0</td>\n",
       "      <td>0.0</td>\n",
       "      <td>0.0</td>\n",
       "    </tr>\n",
       "    <tr>\n",
       "      <th>3</th>\n",
       "      <td>141</td>\n",
       "      <td>3</td>\n",
       "      <td>0.560714</td>\n",
       "      <td>0.0</td>\n",
       "      <td>0.0</td>\n",
       "      <td>0.0</td>\n",
       "      <td>0.0</td>\n",
       "      <td>0.0</td>\n",
       "      <td>0.0</td>\n",
       "      <td>0.0</td>\n",
       "      <td>...</td>\n",
       "      <td>0.0</td>\n",
       "      <td>0.0</td>\n",
       "      <td>0.0</td>\n",
       "      <td>0.0</td>\n",
       "      <td>0.0</td>\n",
       "      <td>0.0</td>\n",
       "      <td>0.0</td>\n",
       "      <td>0.0</td>\n",
       "      <td>0.0</td>\n",
       "      <td>0.0</td>\n",
       "    </tr>\n",
       "    <tr>\n",
       "      <th>4</th>\n",
       "      <td>209</td>\n",
       "      <td>3</td>\n",
       "      <td>0.512891</td>\n",
       "      <td>0.0</td>\n",
       "      <td>0.0</td>\n",
       "      <td>0.0</td>\n",
       "      <td>0.0</td>\n",
       "      <td>0.0</td>\n",
       "      <td>0.0</td>\n",
       "      <td>0.0</td>\n",
       "      <td>...</td>\n",
       "      <td>0.0</td>\n",
       "      <td>0.0</td>\n",
       "      <td>0.0</td>\n",
       "      <td>0.0</td>\n",
       "      <td>0.0</td>\n",
       "      <td>0.0</td>\n",
       "      <td>0.0</td>\n",
       "      <td>0.0</td>\n",
       "      <td>0.0</td>\n",
       "      <td>0.0</td>\n",
       "    </tr>\n",
       "    <tr>\n",
       "      <th>5</th>\n",
       "      <td>512</td>\n",
       "      <td>0</td>\n",
       "      <td>0.181111</td>\n",
       "      <td>0.0</td>\n",
       "      <td>0.0</td>\n",
       "      <td>0.0</td>\n",
       "      <td>0.0</td>\n",
       "      <td>0.0</td>\n",
       "      <td>0.0</td>\n",
       "      <td>0.0</td>\n",
       "      <td>...</td>\n",
       "      <td>0.0</td>\n",
       "      <td>0.0</td>\n",
       "      <td>0.0</td>\n",
       "      <td>0.0</td>\n",
       "      <td>0.0</td>\n",
       "      <td>0.0</td>\n",
       "      <td>0.0</td>\n",
       "      <td>0.0</td>\n",
       "      <td>0.0</td>\n",
       "      <td>0.0</td>\n",
       "    </tr>\n",
       "    <tr>\n",
       "      <th>6</th>\n",
       "      <td>517</td>\n",
       "      <td>0</td>\n",
       "      <td>0.157500</td>\n",
       "      <td>0.0</td>\n",
       "      <td>0.0</td>\n",
       "      <td>0.0</td>\n",
       "      <td>0.0</td>\n",
       "      <td>0.0</td>\n",
       "      <td>0.0</td>\n",
       "      <td>0.0</td>\n",
       "      <td>...</td>\n",
       "      <td>0.0</td>\n",
       "      <td>0.0</td>\n",
       "      <td>0.0</td>\n",
       "      <td>0.0</td>\n",
       "      <td>0.0</td>\n",
       "      <td>0.0</td>\n",
       "      <td>0.0</td>\n",
       "      <td>0.0</td>\n",
       "      <td>0.0</td>\n",
       "      <td>0.0</td>\n",
       "    </tr>\n",
       "  </tbody>\n",
       "</table>\n",
       "<p>5 rows × 7280 columns</p>\n",
       "</div>"
      ],
      "text/plain": [
       "   Review_length  count_exc  Polarity    0    1    2    3    4    5    6  ...  \\\n",
       "2            524          1  0.073209  0.0  0.0  0.0  0.0  0.0  0.0  0.0  ...   \n",
       "3            141          3  0.560714  0.0  0.0  0.0  0.0  0.0  0.0  0.0  ...   \n",
       "4            209          3  0.512891  0.0  0.0  0.0  0.0  0.0  0.0  0.0  ...   \n",
       "5            512          0  0.181111  0.0  0.0  0.0  0.0  0.0  0.0  0.0  ...   \n",
       "6            517          0  0.157500  0.0  0.0  0.0  0.0  0.0  0.0  0.0  ...   \n",
       "\n",
       "   7267  7268  7269  7270  7271  7272  7273  7274  7275  7276  \n",
       "2   0.0   0.0   0.0   0.0   0.0   0.0   0.0   0.0   0.0   0.0  \n",
       "3   0.0   0.0   0.0   0.0   0.0   0.0   0.0   0.0   0.0   0.0  \n",
       "4   0.0   0.0   0.0   0.0   0.0   0.0   0.0   0.0   0.0   0.0  \n",
       "5   0.0   0.0   0.0   0.0   0.0   0.0   0.0   0.0   0.0   0.0  \n",
       "6   0.0   0.0   0.0   0.0   0.0   0.0   0.0   0.0   0.0   0.0  \n",
       "\n",
       "[5 rows x 7280 columns]"
      ]
     },
     "execution_count": 118,
     "metadata": {},
     "output_type": "execute_result"
    }
   ],
   "source": [
    "X = df_all.drop('Recommended', axis=1)\n",
    "y = df_all.Recommended\n",
    "\n",
    "X.head()"
   ]
  },
  {
   "cell_type": "code",
   "execution_count": 119,
   "metadata": {},
   "outputs": [
    {
     "data": {
      "text/plain": [
       "(16481, 7280)"
      ]
     },
     "execution_count": 119,
     "metadata": {},
     "output_type": "execute_result"
    }
   ],
   "source": [
    "X.shape"
   ]
  },
  {
   "cell_type": "code",
   "execution_count": 120,
   "metadata": {},
   "outputs": [
    {
     "data": {
      "text/html": [
       "<div>\n",
       "<style scoped>\n",
       "    .dataframe tbody tr th:only-of-type {\n",
       "        vertical-align: middle;\n",
       "    }\n",
       "\n",
       "    .dataframe tbody tr th {\n",
       "        vertical-align: top;\n",
       "    }\n",
       "\n",
       "    .dataframe thead th {\n",
       "        text-align: right;\n",
       "    }\n",
       "</style>\n",
       "<table border=\"1\" class=\"dataframe\">\n",
       "  <thead>\n",
       "    <tr style=\"text-align: right;\">\n",
       "      <th></th>\n",
       "      <th>Review_length</th>\n",
       "      <th>count_exc</th>\n",
       "      <th>Polarity</th>\n",
       "      <th>0</th>\n",
       "      <th>1</th>\n",
       "      <th>2</th>\n",
       "      <th>3</th>\n",
       "      <th>4</th>\n",
       "      <th>5</th>\n",
       "      <th>6</th>\n",
       "      <th>...</th>\n",
       "      <th>7267</th>\n",
       "      <th>7268</th>\n",
       "      <th>7269</th>\n",
       "      <th>7270</th>\n",
       "      <th>7271</th>\n",
       "      <th>7272</th>\n",
       "      <th>7273</th>\n",
       "      <th>7274</th>\n",
       "      <th>7275</th>\n",
       "      <th>7276</th>\n",
       "    </tr>\n",
       "  </thead>\n",
       "  <tbody>\n",
       "    <tr>\n",
       "      <th>count</th>\n",
       "      <td>16481.000000</td>\n",
       "      <td>16481.000000</td>\n",
       "      <td>16481.000000</td>\n",
       "      <td>16481.000000</td>\n",
       "      <td>16481.000000</td>\n",
       "      <td>16481.000000</td>\n",
       "      <td>16481.0</td>\n",
       "      <td>16481.000000</td>\n",
       "      <td>16481.000000</td>\n",
       "      <td>16481.000000</td>\n",
       "      <td>...</td>\n",
       "      <td>16481.000000</td>\n",
       "      <td>16481.000000</td>\n",
       "      <td>16481.000000</td>\n",
       "      <td>16481.000000</td>\n",
       "      <td>16481.000000</td>\n",
       "      <td>16481.000000</td>\n",
       "      <td>16481.000000</td>\n",
       "      <td>16481.000000</td>\n",
       "      <td>16481.000000</td>\n",
       "      <td>16481.000000</td>\n",
       "    </tr>\n",
       "    <tr>\n",
       "      <th>mean</th>\n",
       "      <td>338.411261</td>\n",
       "      <td>0.876221</td>\n",
       "      <td>0.265987</td>\n",
       "      <td>0.000024</td>\n",
       "      <td>0.000030</td>\n",
       "      <td>0.000024</td>\n",
       "      <td>0.0</td>\n",
       "      <td>0.000049</td>\n",
       "      <td>0.000021</td>\n",
       "      <td>0.000020</td>\n",
       "      <td>...</td>\n",
       "      <td>0.000023</td>\n",
       "      <td>0.000025</td>\n",
       "      <td>0.000076</td>\n",
       "      <td>0.000048</td>\n",
       "      <td>0.000054</td>\n",
       "      <td>0.000021</td>\n",
       "      <td>0.002118</td>\n",
       "      <td>0.000315</td>\n",
       "      <td>0.000030</td>\n",
       "      <td>0.000125</td>\n",
       "    </tr>\n",
       "    <tr>\n",
       "      <th>std</th>\n",
       "      <td>144.790275</td>\n",
       "      <td>1.414203</td>\n",
       "      <td>0.172803</td>\n",
       "      <td>0.003139</td>\n",
       "      <td>0.003794</td>\n",
       "      <td>0.003098</td>\n",
       "      <td>0.0</td>\n",
       "      <td>0.004483</td>\n",
       "      <td>0.002695</td>\n",
       "      <td>0.002549</td>\n",
       "      <td>...</td>\n",
       "      <td>0.002950</td>\n",
       "      <td>0.003207</td>\n",
       "      <td>0.004952</td>\n",
       "      <td>0.004398</td>\n",
       "      <td>0.004935</td>\n",
       "      <td>0.002727</td>\n",
       "      <td>0.027395</td>\n",
       "      <td>0.010892</td>\n",
       "      <td>0.003799</td>\n",
       "      <td>0.007291</td>\n",
       "    </tr>\n",
       "    <tr>\n",
       "      <th>min</th>\n",
       "      <td>23.000000</td>\n",
       "      <td>0.000000</td>\n",
       "      <td>-0.987500</td>\n",
       "      <td>0.000000</td>\n",
       "      <td>0.000000</td>\n",
       "      <td>0.000000</td>\n",
       "      <td>0.0</td>\n",
       "      <td>0.000000</td>\n",
       "      <td>0.000000</td>\n",
       "      <td>0.000000</td>\n",
       "      <td>...</td>\n",
       "      <td>0.000000</td>\n",
       "      <td>0.000000</td>\n",
       "      <td>0.000000</td>\n",
       "      <td>0.000000</td>\n",
       "      <td>0.000000</td>\n",
       "      <td>0.000000</td>\n",
       "      <td>0.000000</td>\n",
       "      <td>0.000000</td>\n",
       "      <td>0.000000</td>\n",
       "      <td>0.000000</td>\n",
       "    </tr>\n",
       "    <tr>\n",
       "      <th>25%</th>\n",
       "      <td>217.000000</td>\n",
       "      <td>0.000000</td>\n",
       "      <td>0.158333</td>\n",
       "      <td>0.000000</td>\n",
       "      <td>0.000000</td>\n",
       "      <td>0.000000</td>\n",
       "      <td>0.0</td>\n",
       "      <td>0.000000</td>\n",
       "      <td>0.000000</td>\n",
       "      <td>0.000000</td>\n",
       "      <td>...</td>\n",
       "      <td>0.000000</td>\n",
       "      <td>0.000000</td>\n",
       "      <td>0.000000</td>\n",
       "      <td>0.000000</td>\n",
       "      <td>0.000000</td>\n",
       "      <td>0.000000</td>\n",
       "      <td>0.000000</td>\n",
       "      <td>0.000000</td>\n",
       "      <td>0.000000</td>\n",
       "      <td>0.000000</td>\n",
       "    </tr>\n",
       "    <tr>\n",
       "      <th>50%</th>\n",
       "      <td>335.000000</td>\n",
       "      <td>0.000000</td>\n",
       "      <td>0.260863</td>\n",
       "      <td>0.000000</td>\n",
       "      <td>0.000000</td>\n",
       "      <td>0.000000</td>\n",
       "      <td>0.0</td>\n",
       "      <td>0.000000</td>\n",
       "      <td>0.000000</td>\n",
       "      <td>0.000000</td>\n",
       "      <td>...</td>\n",
       "      <td>0.000000</td>\n",
       "      <td>0.000000</td>\n",
       "      <td>0.000000</td>\n",
       "      <td>0.000000</td>\n",
       "      <td>0.000000</td>\n",
       "      <td>0.000000</td>\n",
       "      <td>0.000000</td>\n",
       "      <td>0.000000</td>\n",
       "      <td>0.000000</td>\n",
       "      <td>0.000000</td>\n",
       "    </tr>\n",
       "    <tr>\n",
       "      <th>75%</th>\n",
       "      <td>497.000000</td>\n",
       "      <td>1.000000</td>\n",
       "      <td>0.370312</td>\n",
       "      <td>0.000000</td>\n",
       "      <td>0.000000</td>\n",
       "      <td>0.000000</td>\n",
       "      <td>0.0</td>\n",
       "      <td>0.000000</td>\n",
       "      <td>0.000000</td>\n",
       "      <td>0.000000</td>\n",
       "      <td>...</td>\n",
       "      <td>0.000000</td>\n",
       "      <td>0.000000</td>\n",
       "      <td>0.000000</td>\n",
       "      <td>0.000000</td>\n",
       "      <td>0.000000</td>\n",
       "      <td>0.000000</td>\n",
       "      <td>0.000000</td>\n",
       "      <td>0.000000</td>\n",
       "      <td>0.000000</td>\n",
       "      <td>0.000000</td>\n",
       "    </tr>\n",
       "    <tr>\n",
       "      <th>max</th>\n",
       "      <td>557.000000</td>\n",
       "      <td>41.000000</td>\n",
       "      <td>1.000000</td>\n",
       "      <td>0.402938</td>\n",
       "      <td>0.487124</td>\n",
       "      <td>0.397730</td>\n",
       "      <td>0.0</td>\n",
       "      <td>0.447529</td>\n",
       "      <td>0.345954</td>\n",
       "      <td>0.327234</td>\n",
       "      <td>...</td>\n",
       "      <td>0.378710</td>\n",
       "      <td>0.411733</td>\n",
       "      <td>0.382191</td>\n",
       "      <td>0.400114</td>\n",
       "      <td>0.496872</td>\n",
       "      <td>0.350060</td>\n",
       "      <td>0.629020</td>\n",
       "      <td>0.484828</td>\n",
       "      <td>0.487690</td>\n",
       "      <td>0.526867</td>\n",
       "    </tr>\n",
       "  </tbody>\n",
       "</table>\n",
       "<p>8 rows × 7280 columns</p>\n",
       "</div>"
      ],
      "text/plain": [
       "       Review_length     count_exc      Polarity             0             1  \\\n",
       "count   16481.000000  16481.000000  16481.000000  16481.000000  16481.000000   \n",
       "mean      338.411261      0.876221      0.265987      0.000024      0.000030   \n",
       "std       144.790275      1.414203      0.172803      0.003139      0.003794   \n",
       "min        23.000000      0.000000     -0.987500      0.000000      0.000000   \n",
       "25%       217.000000      0.000000      0.158333      0.000000      0.000000   \n",
       "50%       335.000000      0.000000      0.260863      0.000000      0.000000   \n",
       "75%       497.000000      1.000000      0.370312      0.000000      0.000000   \n",
       "max       557.000000     41.000000      1.000000      0.402938      0.487124   \n",
       "\n",
       "                  2        3             4             5             6  ...  \\\n",
       "count  16481.000000  16481.0  16481.000000  16481.000000  16481.000000  ...   \n",
       "mean       0.000024      0.0      0.000049      0.000021      0.000020  ...   \n",
       "std        0.003098      0.0      0.004483      0.002695      0.002549  ...   \n",
       "min        0.000000      0.0      0.000000      0.000000      0.000000  ...   \n",
       "25%        0.000000      0.0      0.000000      0.000000      0.000000  ...   \n",
       "50%        0.000000      0.0      0.000000      0.000000      0.000000  ...   \n",
       "75%        0.000000      0.0      0.000000      0.000000      0.000000  ...   \n",
       "max        0.397730      0.0      0.447529      0.345954      0.327234  ...   \n",
       "\n",
       "               7267          7268          7269          7270          7271  \\\n",
       "count  16481.000000  16481.000000  16481.000000  16481.000000  16481.000000   \n",
       "mean       0.000023      0.000025      0.000076      0.000048      0.000054   \n",
       "std        0.002950      0.003207      0.004952      0.004398      0.004935   \n",
       "min        0.000000      0.000000      0.000000      0.000000      0.000000   \n",
       "25%        0.000000      0.000000      0.000000      0.000000      0.000000   \n",
       "50%        0.000000      0.000000      0.000000      0.000000      0.000000   \n",
       "75%        0.000000      0.000000      0.000000      0.000000      0.000000   \n",
       "max        0.378710      0.411733      0.382191      0.400114      0.496872   \n",
       "\n",
       "               7272          7273          7274          7275          7276  \n",
       "count  16481.000000  16481.000000  16481.000000  16481.000000  16481.000000  \n",
       "mean       0.000021      0.002118      0.000315      0.000030      0.000125  \n",
       "std        0.002727      0.027395      0.010892      0.003799      0.007291  \n",
       "min        0.000000      0.000000      0.000000      0.000000      0.000000  \n",
       "25%        0.000000      0.000000      0.000000      0.000000      0.000000  \n",
       "50%        0.000000      0.000000      0.000000      0.000000      0.000000  \n",
       "75%        0.000000      0.000000      0.000000      0.000000      0.000000  \n",
       "max        0.350060      0.629020      0.484828      0.487690      0.526867  \n",
       "\n",
       "[8 rows x 7280 columns]"
      ]
     },
     "execution_count": 120,
     "metadata": {},
     "output_type": "execute_result"
    }
   ],
   "source": [
    "X.describe()"
   ]
  },
  {
   "cell_type": "code",
   "execution_count": 121,
   "metadata": {},
   "outputs": [
    {
     "data": {
      "text/plain": [
       "((11536, 7280), (4945, 7280), (11536,), (4945,))"
      ]
     },
     "execution_count": 121,
     "metadata": {},
     "output_type": "execute_result"
    }
   ],
   "source": [
    "X_train, X_test, y_train, y_test = split(X,y, test_size=0.3, stratify=y, random_state=111)\n",
    "X_train.shape, X_test.shape, y_train.shape, y_test.shape"
   ]
  },
  {
   "cell_type": "code",
   "execution_count": 66,
   "metadata": {},
   "outputs": [
    {
     "data": {
      "text/plain": [
       "1    0.818741\n",
       "0    0.181259\n",
       "Name: Recommended, dtype: float64"
      ]
     },
     "execution_count": 66,
     "metadata": {},
     "output_type": "execute_result"
    }
   ],
   "source": [
    "y_train.value_counts(normalize=True)"
   ]
  },
  {
   "cell_type": "code",
   "execution_count": 67,
   "metadata": {},
   "outputs": [
    {
     "data": {
      "text/plain": [
       "1    0.818605\n",
       "0    0.181395\n",
       "Name: Recommended, dtype: float64"
      ]
     },
     "execution_count": 67,
     "metadata": {},
     "output_type": "execute_result"
    }
   ],
   "source": [
    "y_test.value_counts(normalize=True)"
   ]
  },
  {
   "cell_type": "markdown",
   "metadata": {},
   "source": [
    "### Scaler - MinMaxScaler"
   ]
  },
  {
   "cell_type": "markdown",
   "metadata": {},
   "source": [
    "Transform features by scaling each feature to a given range.\n",
    "\n",
    "This estimator scales and translates each feature individually such that it is in the given range on the training set, e.g. between zero and one."
   ]
  },
  {
   "cell_type": "code",
   "execution_count": 68,
   "metadata": {},
   "outputs": [],
   "source": [
    "scaler = MinMaxScaler()\n",
    "X_train_scaled = scaler.fit_transform(X_train)\n",
    "X_test_scaled = scaler.transform(X_test)"
   ]
  },
  {
   "cell_type": "code",
   "execution_count": 69,
   "metadata": {},
   "outputs": [
    {
     "data": {
      "text/html": [
       "<div>\n",
       "<style scoped>\n",
       "    .dataframe tbody tr th:only-of-type {\n",
       "        vertical-align: middle;\n",
       "    }\n",
       "\n",
       "    .dataframe tbody tr th {\n",
       "        vertical-align: top;\n",
       "    }\n",
       "\n",
       "    .dataframe thead th {\n",
       "        text-align: right;\n",
       "    }\n",
       "</style>\n",
       "<table border=\"1\" class=\"dataframe\">\n",
       "  <thead>\n",
       "    <tr style=\"text-align: right;\">\n",
       "      <th></th>\n",
       "      <th>Review_length</th>\n",
       "      <th>count_exc</th>\n",
       "      <th>Polarity</th>\n",
       "      <th>0</th>\n",
       "      <th>1</th>\n",
       "      <th>2</th>\n",
       "      <th>3</th>\n",
       "      <th>4</th>\n",
       "      <th>5</th>\n",
       "      <th>6</th>\n",
       "      <th>...</th>\n",
       "      <th>7267</th>\n",
       "      <th>7268</th>\n",
       "      <th>7269</th>\n",
       "      <th>7270</th>\n",
       "      <th>7271</th>\n",
       "      <th>7272</th>\n",
       "      <th>7273</th>\n",
       "      <th>7274</th>\n",
       "      <th>7275</th>\n",
       "      <th>7276</th>\n",
       "    </tr>\n",
       "  </thead>\n",
       "  <tbody>\n",
       "    <tr>\n",
       "      <th>count</th>\n",
       "      <td>11536.000000</td>\n",
       "      <td>11536.000000</td>\n",
       "      <td>11536.000000</td>\n",
       "      <td>11536.000000</td>\n",
       "      <td>11536.000000</td>\n",
       "      <td>11536.000000</td>\n",
       "      <td>11536.0</td>\n",
       "      <td>11536.000000</td>\n",
       "      <td>11536.000000</td>\n",
       "      <td>11536.000000</td>\n",
       "      <td>...</td>\n",
       "      <td>11536.000000</td>\n",
       "      <td>11536.0</td>\n",
       "      <td>11536.000000</td>\n",
       "      <td>11536.000000</td>\n",
       "      <td>11536.000000</td>\n",
       "      <td>11536.000000</td>\n",
       "      <td>11536.000000</td>\n",
       "      <td>11536.000000</td>\n",
       "      <td>11536.0</td>\n",
       "      <td>11536.000000</td>\n",
       "    </tr>\n",
       "    <tr>\n",
       "      <th>mean</th>\n",
       "      <td>0.587341</td>\n",
       "      <td>0.021667</td>\n",
       "      <td>0.631576</td>\n",
       "      <td>0.000087</td>\n",
       "      <td>0.000087</td>\n",
       "      <td>0.000087</td>\n",
       "      <td>0.0</td>\n",
       "      <td>0.000087</td>\n",
       "      <td>0.000087</td>\n",
       "      <td>0.000087</td>\n",
       "      <td>...</td>\n",
       "      <td>0.000087</td>\n",
       "      <td>0.0</td>\n",
       "      <td>0.000285</td>\n",
       "      <td>0.000087</td>\n",
       "      <td>0.000155</td>\n",
       "      <td>0.000087</td>\n",
       "      <td>0.003269</td>\n",
       "      <td>0.000680</td>\n",
       "      <td>0.0</td>\n",
       "      <td>0.000340</td>\n",
       "    </tr>\n",
       "    <tr>\n",
       "      <th>std</th>\n",
       "      <td>0.272417</td>\n",
       "      <td>0.035310</td>\n",
       "      <td>0.087348</td>\n",
       "      <td>0.009310</td>\n",
       "      <td>0.009310</td>\n",
       "      <td>0.009310</td>\n",
       "      <td>0.0</td>\n",
       "      <td>0.009310</td>\n",
       "      <td>0.009310</td>\n",
       "      <td>0.009310</td>\n",
       "      <td>...</td>\n",
       "      <td>0.009310</td>\n",
       "      <td>0.0</td>\n",
       "      <td>0.015486</td>\n",
       "      <td>0.009310</td>\n",
       "      <td>0.011872</td>\n",
       "      <td>0.009310</td>\n",
       "      <td>0.043065</td>\n",
       "      <td>0.023211</td>\n",
       "      <td>0.0</td>\n",
       "      <td>0.016539</td>\n",
       "    </tr>\n",
       "    <tr>\n",
       "      <th>min</th>\n",
       "      <td>0.000000</td>\n",
       "      <td>0.000000</td>\n",
       "      <td>0.000000</td>\n",
       "      <td>0.000000</td>\n",
       "      <td>0.000000</td>\n",
       "      <td>0.000000</td>\n",
       "      <td>0.0</td>\n",
       "      <td>0.000000</td>\n",
       "      <td>0.000000</td>\n",
       "      <td>0.000000</td>\n",
       "      <td>...</td>\n",
       "      <td>0.000000</td>\n",
       "      <td>0.0</td>\n",
       "      <td>0.000000</td>\n",
       "      <td>0.000000</td>\n",
       "      <td>0.000000</td>\n",
       "      <td>0.000000</td>\n",
       "      <td>0.000000</td>\n",
       "      <td>0.000000</td>\n",
       "      <td>0.0</td>\n",
       "      <td>0.000000</td>\n",
       "    </tr>\n",
       "    <tr>\n",
       "      <th>25%</th>\n",
       "      <td>0.357678</td>\n",
       "      <td>0.000000</td>\n",
       "      <td>0.577737</td>\n",
       "      <td>0.000000</td>\n",
       "      <td>0.000000</td>\n",
       "      <td>0.000000</td>\n",
       "      <td>0.0</td>\n",
       "      <td>0.000000</td>\n",
       "      <td>0.000000</td>\n",
       "      <td>0.000000</td>\n",
       "      <td>...</td>\n",
       "      <td>0.000000</td>\n",
       "      <td>0.0</td>\n",
       "      <td>0.000000</td>\n",
       "      <td>0.000000</td>\n",
       "      <td>0.000000</td>\n",
       "      <td>0.000000</td>\n",
       "      <td>0.000000</td>\n",
       "      <td>0.000000</td>\n",
       "      <td>0.0</td>\n",
       "      <td>0.000000</td>\n",
       "    </tr>\n",
       "    <tr>\n",
       "      <th>50%</th>\n",
       "      <td>0.578652</td>\n",
       "      <td>0.000000</td>\n",
       "      <td>0.628931</td>\n",
       "      <td>0.000000</td>\n",
       "      <td>0.000000</td>\n",
       "      <td>0.000000</td>\n",
       "      <td>0.0</td>\n",
       "      <td>0.000000</td>\n",
       "      <td>0.000000</td>\n",
       "      <td>0.000000</td>\n",
       "      <td>...</td>\n",
       "      <td>0.000000</td>\n",
       "      <td>0.0</td>\n",
       "      <td>0.000000</td>\n",
       "      <td>0.000000</td>\n",
       "      <td>0.000000</td>\n",
       "      <td>0.000000</td>\n",
       "      <td>0.000000</td>\n",
       "      <td>0.000000</td>\n",
       "      <td>0.0</td>\n",
       "      <td>0.000000</td>\n",
       "    </tr>\n",
       "    <tr>\n",
       "      <th>75%</th>\n",
       "      <td>0.885768</td>\n",
       "      <td>0.024390</td>\n",
       "      <td>0.683922</td>\n",
       "      <td>0.000000</td>\n",
       "      <td>0.000000</td>\n",
       "      <td>0.000000</td>\n",
       "      <td>0.0</td>\n",
       "      <td>0.000000</td>\n",
       "      <td>0.000000</td>\n",
       "      <td>0.000000</td>\n",
       "      <td>...</td>\n",
       "      <td>0.000000</td>\n",
       "      <td>0.0</td>\n",
       "      <td>0.000000</td>\n",
       "      <td>0.000000</td>\n",
       "      <td>0.000000</td>\n",
       "      <td>0.000000</td>\n",
       "      <td>0.000000</td>\n",
       "      <td>0.000000</td>\n",
       "      <td>0.0</td>\n",
       "      <td>0.000000</td>\n",
       "    </tr>\n",
       "    <tr>\n",
       "      <th>max</th>\n",
       "      <td>1.000000</td>\n",
       "      <td>1.000000</td>\n",
       "      <td>1.000000</td>\n",
       "      <td>1.000000</td>\n",
       "      <td>1.000000</td>\n",
       "      <td>1.000000</td>\n",
       "      <td>0.0</td>\n",
       "      <td>1.000000</td>\n",
       "      <td>1.000000</td>\n",
       "      <td>1.000000</td>\n",
       "      <td>...</td>\n",
       "      <td>1.000000</td>\n",
       "      <td>0.0</td>\n",
       "      <td>1.000000</td>\n",
       "      <td>1.000000</td>\n",
       "      <td>1.000000</td>\n",
       "      <td>1.000000</td>\n",
       "      <td>1.000000</td>\n",
       "      <td>1.000000</td>\n",
       "      <td>0.0</td>\n",
       "      <td>1.000000</td>\n",
       "    </tr>\n",
       "  </tbody>\n",
       "</table>\n",
       "<p>8 rows × 7280 columns</p>\n",
       "</div>"
      ],
      "text/plain": [
       "       Review_length     count_exc      Polarity             0             1  \\\n",
       "count   11536.000000  11536.000000  11536.000000  11536.000000  11536.000000   \n",
       "mean        0.587341      0.021667      0.631576      0.000087      0.000087   \n",
       "std         0.272417      0.035310      0.087348      0.009310      0.009310   \n",
       "min         0.000000      0.000000      0.000000      0.000000      0.000000   \n",
       "25%         0.357678      0.000000      0.577737      0.000000      0.000000   \n",
       "50%         0.578652      0.000000      0.628931      0.000000      0.000000   \n",
       "75%         0.885768      0.024390      0.683922      0.000000      0.000000   \n",
       "max         1.000000      1.000000      1.000000      1.000000      1.000000   \n",
       "\n",
       "                  2        3             4             5             6  ...  \\\n",
       "count  11536.000000  11536.0  11536.000000  11536.000000  11536.000000  ...   \n",
       "mean       0.000087      0.0      0.000087      0.000087      0.000087  ...   \n",
       "std        0.009310      0.0      0.009310      0.009310      0.009310  ...   \n",
       "min        0.000000      0.0      0.000000      0.000000      0.000000  ...   \n",
       "25%        0.000000      0.0      0.000000      0.000000      0.000000  ...   \n",
       "50%        0.000000      0.0      0.000000      0.000000      0.000000  ...   \n",
       "75%        0.000000      0.0      0.000000      0.000000      0.000000  ...   \n",
       "max        1.000000      0.0      1.000000      1.000000      1.000000  ...   \n",
       "\n",
       "               7267     7268          7269          7270          7271  \\\n",
       "count  11536.000000  11536.0  11536.000000  11536.000000  11536.000000   \n",
       "mean       0.000087      0.0      0.000285      0.000087      0.000155   \n",
       "std        0.009310      0.0      0.015486      0.009310      0.011872   \n",
       "min        0.000000      0.0      0.000000      0.000000      0.000000   \n",
       "25%        0.000000      0.0      0.000000      0.000000      0.000000   \n",
       "50%        0.000000      0.0      0.000000      0.000000      0.000000   \n",
       "75%        0.000000      0.0      0.000000      0.000000      0.000000   \n",
       "max        1.000000      0.0      1.000000      1.000000      1.000000   \n",
       "\n",
       "               7272          7273          7274     7275          7276  \n",
       "count  11536.000000  11536.000000  11536.000000  11536.0  11536.000000  \n",
       "mean       0.000087      0.003269      0.000680      0.0      0.000340  \n",
       "std        0.009310      0.043065      0.023211      0.0      0.016539  \n",
       "min        0.000000      0.000000      0.000000      0.0      0.000000  \n",
       "25%        0.000000      0.000000      0.000000      0.0      0.000000  \n",
       "50%        0.000000      0.000000      0.000000      0.0      0.000000  \n",
       "75%        0.000000      0.000000      0.000000      0.0      0.000000  \n",
       "max        1.000000      1.000000      1.000000      0.0      1.000000  \n",
       "\n",
       "[8 rows x 7280 columns]"
      ]
     },
     "execution_count": 69,
     "metadata": {},
     "output_type": "execute_result"
    }
   ],
   "source": [
    "pd.DataFrame(X_train_scaled,columns= X_train.columns).describe()"
   ]
  },
  {
   "cell_type": "markdown",
   "metadata": {},
   "source": [
    "### Data Visualization (PCA)"
   ]
  },
  {
   "cell_type": "code",
   "execution_count": 70,
   "metadata": {},
   "outputs": [
    {
     "data": {
      "text/plain": [
       "array([[-0.13600042, -0.04987566]])"
      ]
     },
     "execution_count": 70,
     "metadata": {},
     "output_type": "execute_result"
    }
   ],
   "source": [
    "pca_transformer = PCA(n_components=2).fit(X_train_scaled)\n",
    "X_train_scaled_pca = pca_transformer.transform(X_train_scaled)\n",
    "X_test_scaled_pca = pca_transformer.transform(X_test_scaled)\n",
    "X_train_scaled_pca[:1]"
   ]
  },
  {
   "cell_type": "code",
   "execution_count": 71,
   "metadata": {},
   "outputs": [
    {
     "data": {
      "text/plain": [
       "<matplotlib.axes._subplots.AxesSubplot at 0x1510055f8d0>"
      ]
     },
     "execution_count": 71,
     "metadata": {},
     "output_type": "execute_result"
    },
    {
     "data": {
      "image/png": "[encoded data removed]",
      "text/plain": [
       "<Figure size 1080x504 with 1 Axes>"
      ]
     },
     "metadata": {
      "needs_background": "light"
     },
     "output_type": "display_data"
    }
   ],
   "source": [
    "plt.figure(figsize=(15,7))\n",
    "sns.scatterplot(x=X_train_scaled_pca[:, 0], \n",
    "                y=X_train_scaled_pca[:, 1], \n",
    "                hue=y_train, \n",
    "                sizes=100,\n",
    "                palette=\"inferno\") "
   ]
  },
  {
   "cell_type": "code",
   "execution_count": 72,
   "metadata": {},
   "outputs": [
    {
     "data": {
      "text/plain": [
       "<4945x7280 sparse matrix of type '<class 'numpy.float64'>'\n",
       "\twith 71934 stored elements in Compressed Sparse Row format>"
      ]
     },
     "execution_count": 72,
     "metadata": {},
     "output_type": "execute_result"
    }
   ],
   "source": [
    "X_train_scaled = scipy.sparse.csr_matrix(X_train_scaled)\n",
    "X_test_scaled = scipy.sparse.csr_matrix(X_test_scaled)\n",
    "\n",
    "X_train = scipy.sparse.csr_matrix(X_train.values)\n",
    "X_test = scipy.sparse.csr_matrix(X_test.values)\n",
    "X_test"
   ]
  },
  {
   "cell_type": "markdown",
   "metadata": {},
   "source": [
    "# Models"
   ]
  },
  {
   "cell_type": "code",
   "execution_count": 93,
   "metadata": {},
   "outputs": [],
   "source": [
    "from sklearn.metrics import accuracy_score\n",
    "def report(y_true, y_pred, labels):\n",
    "    cm = pd.DataFrame(confusion_matrix(y_true=y_true, y_pred=y_pred), \n",
    "                                        index=labels, columns=labels)\n",
    "    rep = classification_report(y_true=y_true, y_pred=y_pred)\n",
    "    return (f'Confusion Matrix:\\n{cm}\\n\\nClassification Report:\\n{rep}')"
   ]
  },
  {
   "cell_type": "markdown",
   "metadata": {},
   "source": [
    "Model Evaluation will be made by two metrics:\n",
    "1. <u> F1 micro score</u>  - which is the harmonic mean of precision and recall, and takes into account label imbalances.\n",
    "2. <u> AUC </u>- ROC is a probability curve and AUC represents degree or measure of separability. It tells how much model is capable of distinguishing between classes.\n"
   ]
  },
  {
   "cell_type": "markdown",
   "metadata": {},
   "source": [
    "# Multi-layer Perceptron classifier"
   ]
  },
  {
   "cell_type": "code",
   "execution_count": 95,
   "metadata": {},
   "outputs": [
    {
     "name": "stdout",
     "output_type": "stream",
     "text": [
      "MLP Model accuracy 0.8004044489383215\n"
     ]
    }
   ],
   "source": [
    "from sklearn.neural_network import MLPClassifier\n",
    "classifier = MLPClassifier()\n",
    "classifier.fit(X_train,y_train)\n",
    "y_pred1 = classifier.predict(X_test)\n",
    "clf_accuracy=accuracy_score(y_test,y_pred1)\n",
    "print(\"MLP Model accuracy\",clf_accuracy)"
   ]
  },
  {
   "cell_type": "code",
   "execution_count": 96,
   "metadata": {},
   "outputs": [
    {
     "name": "stdout",
     "output_type": "stream",
     "text": [
      "Confusion Matrix:\n",
      "     0     1\n",
      "0   51   846\n",
      "1  208  3840\n",
      "\n",
      "Classification Report:\n",
      "              precision    recall  f1-score   support\n",
      "\n",
      "           0       0.20      0.06      0.09       897\n",
      "           1       0.82      0.95      0.88      4048\n",
      "\n",
      "   micro avg       0.79      0.79      0.79      4945\n",
      "   macro avg       0.51      0.50      0.48      4945\n",
      "weighted avg       0.71      0.79      0.74      4945\n",
      "\n"
     ]
    }
   ],
   "source": [
    "test_predictions = classifier.predict(X_test_scaled)\n",
    "print(report(y_test, test_predictions, classifier.classes_ ))"
   ]
  },
  {
   "cell_type": "code",
   "execution_count": 97,
   "metadata": {},
   "outputs": [
    {
     "data": {
      "text/plain": [
       "<matplotlib.axes._subplots.AxesSubplot at 0x151005375c0>"
      ]
     },
     "execution_count": 97,
     "metadata": {},
     "output_type": "execute_result"
    },
    {
     "data": {
      "image/png": "[encoded data removed]",
      "text/plain": [
       "<Figure size 432x288 with 1 Axes>"
      ]
     },
     "metadata": {
      "needs_background": "light"
     },
     "output_type": "display_data"
    }
   ],
   "source": [
    "skplt.metrics.plot_roc(y_test, classifier.predict_proba(X_test_scaled)) "
   ]
  },
  {
   "cell_type": "markdown",
   "metadata": {},
   "source": [
    "# Logistic Regression Model"
   ]
  },
  {
   "cell_type": "code",
   "execution_count": 98,
   "metadata": {},
   "outputs": [
    {
     "name": "stderr",
     "output_type": "stream",
     "text": [
      "[Parallel(n_jobs=-1)]: Using backend LokyBackend with 2 concurrent workers.\n"
     ]
    },
    {
     "name": "stdout",
     "output_type": "stream",
     "text": [
      "Logistic Regression Model accuracy 0.8374115267947422\n"
     ]
    },
    {
     "name": "stderr",
     "output_type": "stream",
     "text": [
      "[Parallel(n_jobs=-1)]: Done   6 out of   6 | elapsed:   15.8s remaining:    0.0s\n",
      "[Parallel(n_jobs=-1)]: Done   6 out of   6 | elapsed:   15.8s finished\n"
     ]
    }
   ],
   "source": [
    "from sklearn.linear_model import LogisticRegressionCV\n",
    "classifier=LogisticRegressionCV(cv=6,scoring='accuracy',random_state=0,n_jobs=-1,verbose=3,max_iter=500).fit(X_train,y_train)\n",
    "y_pred1 = classifier.predict(X_test)\n",
    "clf_accuracy=accuracy_score(y_test,y_pred1)\n",
    "print(\"Logistic Regression Model accuracy\",clf_accuracy)"
   ]
  },
  {
   "cell_type": "code",
   "execution_count": 99,
   "metadata": {},
   "outputs": [
    {
     "name": "stdout",
     "output_type": "stream",
     "text": [
      "Confusion Matrix:\n",
      "   0     1\n",
      "0  0   897\n",
      "1  0  4048\n",
      "\n",
      "Classification Report:\n",
      "              precision    recall  f1-score   support\n",
      "\n",
      "           0       0.00      0.00      0.00       897\n",
      "           1       0.82      1.00      0.90      4048\n",
      "\n",
      "   micro avg       0.82      0.82      0.82      4945\n",
      "   macro avg       0.41      0.50      0.45      4945\n",
      "weighted avg       0.67      0.82      0.74      4945\n",
      "\n"
     ]
    }
   ],
   "source": [
    "test_predictions = classifier.predict(X_test_scaled)\n",
    "print(report(y_test, test_predictions, classifier.classes_ ))"
   ]
  },
  {
   "cell_type": "code",
   "execution_count": 100,
   "metadata": {},
   "outputs": [
    {
     "data": {
      "text/plain": [
       "<matplotlib.axes._subplots.AxesSubplot at 0x15100537710>"
      ]
     },
     "execution_count": 100,
     "metadata": {},
     "output_type": "execute_result"
    },
    {
     "data": {
      "image/png": "[encoded data removed]",
      "text/plain": [
       "<Figure size 432x288 with 1 Axes>"
      ]
     },
     "metadata": {
      "needs_background": "light"
     },
     "output_type": "display_data"
    }
   ],
   "source": [
    "skplt.metrics.plot_roc(y_test, classifier.predict_proba(X_test_scaled)) "
   ]
  },
  {
   "cell_type": "markdown",
   "metadata": {},
   "source": [
    "# XGBoost Model"
   ]
  },
  {
   "cell_type": "code",
   "execution_count": 101,
   "metadata": {},
   "outputs": [
    {
     "name": "stdout",
     "output_type": "stream",
     "text": [
      "XGBoost Model accuracy 0.8386248736097067\n"
     ]
    }
   ],
   "source": [
    "import xgboost as xgb\n",
    "xgb=xgb.XGBClassifier()\n",
    "xgb.fit(X_train,y_train)\n",
    "preds2=xgb.predict(X_test)\n",
    "xgb_accuracy=accuracy_score(y_test,preds2)\n",
    "print(\"XGBoost Model accuracy\",xgb_accuracy)"
   ]
  },
  {
   "cell_type": "code",
   "execution_count": 102,
   "metadata": {},
   "outputs": [
    {
     "name": "stdout",
     "output_type": "stream",
     "text": [
      "Confusion Matrix:\n",
      "   0     1\n",
      "0  0   897\n",
      "1  0  4048\n",
      "\n",
      "Classification Report:\n",
      "              precision    recall  f1-score   support\n",
      "\n",
      "           0       0.00      0.00      0.00       897\n",
      "           1       0.82      1.00      0.90      4048\n",
      "\n",
      "   micro avg       0.82      0.82      0.82      4945\n",
      "   macro avg       0.41      0.50      0.45      4945\n",
      "weighted avg       0.67      0.82      0.74      4945\n",
      "\n"
     ]
    }
   ],
   "source": [
    "test_predictions = classifier.predict(X_test_scaled)\n",
    "print(report(y_test, test_predictions, classifier.classes_ ))"
   ]
  },
  {
   "cell_type": "code",
   "execution_count": 103,
   "metadata": {},
   "outputs": [
    {
     "data": {
      "text/plain": [
       "<matplotlib.axes._subplots.AxesSubplot at 0x150476753c8>"
      ]
     },
     "execution_count": 103,
     "metadata": {},
     "output_type": "execute_result"
    },
    {
     "data": {
      "image/png": "[encoded data removed]",
      "text/plain": [
       "<Figure size 432x288 with 1 Axes>"
      ]
     },
     "metadata": {
      "needs_background": "light"
     },
     "output_type": "display_data"
    }
   ],
   "source": [
    "skplt.metrics.plot_roc(y_test, classifier.predict_proba(X_test_scaled)) "
   ]
  },
  {
   "cell_type": "markdown",
   "metadata": {},
   "source": [
    "# Random Forrest Model"
   ]
  },
  {
   "cell_type": "code",
   "execution_count": 104,
   "metadata": {},
   "outputs": [
    {
     "name": "stdout",
     "output_type": "stream",
     "text": [
      "Random Forest Model accuracy 0.8135490394337714\n"
     ]
    }
   ],
   "source": [
    "from sklearn.ensemble import RandomForestClassifier\n",
    "classifier = RandomForestClassifier()\n",
    "classifier.fit(X_train,y_train)\n",
    "preds=classifier.predict(X_test)\n",
    "rf_accuracy=accuracy_score(preds,y_test)\n",
    "print(\"Random Forest Model accuracy\",rf_accuracy)"
   ]
  },
  {
   "cell_type": "code",
   "execution_count": 105,
   "metadata": {},
   "outputs": [
    {
     "name": "stdout",
     "output_type": "stream",
     "text": [
      "Confusion Matrix:\n",
      "     0     1\n",
      "0   56   841\n",
      "1  212  3836\n",
      "\n",
      "Classification Report:\n",
      "              precision    recall  f1-score   support\n",
      "\n",
      "           0       0.21      0.06      0.10       897\n",
      "           1       0.82      0.95      0.88      4048\n",
      "\n",
      "   micro avg       0.79      0.79      0.79      4945\n",
      "   macro avg       0.51      0.51      0.49      4945\n",
      "weighted avg       0.71      0.79      0.74      4945\n",
      "\n"
     ]
    }
   ],
   "source": [
    "test_predictions = classifier.predict(X_test_scaled)\n",
    "print(report(y_test, test_predictions, classifier.classes_ ))"
   ]
  },
  {
   "cell_type": "code",
   "execution_count": 106,
   "metadata": {},
   "outputs": [
    {
     "data": {
      "text/plain": [
       "<matplotlib.axes._subplots.AxesSubplot at 0x15028df5320>"
      ]
     },
     "execution_count": 106,
     "metadata": {},
     "output_type": "execute_result"
    },
    {
     "data": {
      "image/png": "[encoded data removed]",
      "text/plain": [
       "<Figure size 432x288 with 1 Axes>"
      ]
     },
     "metadata": {
      "needs_background": "light"
     },
     "output_type": "display_data"
    }
   ],
   "source": [
    "skplt.metrics.plot_roc(y_test, classifier.predict_proba(X_test_scaled)) "
   ]
  },
  {
   "cell_type": "markdown",
   "metadata": {},
   "source": [
    "# Bernoulli Naive Bayes"
   ]
  },
  {
   "cell_type": "code",
   "execution_count": 108,
   "metadata": {},
   "outputs": [
    {
     "name": "stdout",
     "output_type": "stream",
     "text": [
      "Bernouli NAive Bayes Model accuracy 0.8091001011122346\n"
     ]
    }
   ],
   "source": [
    "from sklearn.naive_bayes import BernoulliNB\n",
    "classifier = BernoulliNB()\n",
    "classifier.fit(X_train, y_train)\n",
    "preds=classifier.predict(X_test)\n",
    "rf_accuracy=accuracy_score(preds,y_test)\n",
    "print(\"Bernouli NAive Bayes Model accuracy\",rf_accuracy)"
   ]
  },
  {
   "cell_type": "code",
   "execution_count": 109,
   "metadata": {},
   "outputs": [
    {
     "name": "stdout",
     "output_type": "stream",
     "text": [
      "Confusion Matrix:\n",
      "     0     1\n",
      "0   32   865\n",
      "1  105  3943\n",
      "\n",
      "Classification Report:\n",
      "              precision    recall  f1-score   support\n",
      "\n",
      "           0       0.23      0.04      0.06       897\n",
      "           1       0.82      0.97      0.89      4048\n",
      "\n",
      "   micro avg       0.80      0.80      0.80      4945\n",
      "   macro avg       0.53      0.50      0.48      4945\n",
      "weighted avg       0.71      0.80      0.74      4945\n",
      "\n"
     ]
    }
   ],
   "source": [
    "test_predictions = classifier.predict(X_test_scaled)\n",
    "print(report(y_test, test_predictions, classifier.classes_ ))"
   ]
  },
  {
   "cell_type": "code",
   "execution_count": 110,
   "metadata": {},
   "outputs": [
    {
     "data": {
      "text/plain": [
       "<matplotlib.axes._subplots.AxesSubplot at 0x15028efb6d8>"
      ]
     },
     "execution_count": 110,
     "metadata": {},
     "output_type": "execute_result"
    },
    {
     "data": {
      "image/png": "[encoded data removed]",
      "text/plain": [
       "<Figure size 432x288 with 1 Axes>"
      ]
     },
     "metadata": {
      "needs_background": "light"
     },
     "output_type": "display_data"
    }
   ],
   "source": [
    "skplt.metrics.plot_roc(y_test, classifier.predict_proba(X_test_scaled)) "
   ]
  },
  {
   "cell_type": "markdown",
   "metadata": {},
   "source": [
    "# SVM"
   ]
  },
  {
   "cell_type": "code",
   "execution_count": 111,
   "metadata": {},
   "outputs": [
    {
     "data": {
      "text/plain": [
       "SVC(C=1.0, cache_size=200, class_weight='balanced', coef0=0.0,\n",
       "  decision_function_shape='ovr', degree=3, gamma='auto_deprecated',\n",
       "  kernel='linear', max_iter=-1, probability=True, random_state=111,\n",
       "  shrinking=True, tol=0.001, verbose=False)"
      ]
     },
     "execution_count": 111,
     "metadata": {},
     "output_type": "execute_result"
    }
   ],
   "source": [
    "svc_model = SVC(C=1.0, \n",
    "             kernel='linear',\n",
    "             class_weight='balanced', \n",
    "             probability=True,\n",
    "             random_state=111)\n",
    "svc_model.fit(X_train_scaled, y_train)"
   ]
  },
  {
   "cell_type": "code",
   "execution_count": 112,
   "metadata": {},
   "outputs": [
    {
     "name": "stdout",
     "output_type": "stream",
     "text": [
      "Bernouli NAive Bayes Model accuracy 0.8186046511627907\n"
     ]
    }
   ],
   "source": [
    "preds=svc_model.predict(X_test)\n",
    "rf_accuracy=accuracy_score(preds,y_test)\n",
    "print(\"Bernouli NAive Bayes Model accuracy\",rf_accuracy)"
   ]
  },
  {
   "cell_type": "code",
   "execution_count": 113,
   "metadata": {},
   "outputs": [
    {
     "name": "stdout",
     "output_type": "stream",
     "text": [
      "Confusion Matrix:\n",
      "     0     1\n",
      "0  517   380\n",
      "1  995  3053\n",
      "\n",
      "Classification Report:\n",
      "              precision    recall  f1-score   support\n",
      "\n",
      "           0       0.34      0.58      0.43       897\n",
      "           1       0.89      0.75      0.82      4048\n",
      "\n",
      "   micro avg       0.72      0.72      0.72      4945\n",
      "   macro avg       0.62      0.67      0.62      4945\n",
      "weighted avg       0.79      0.72      0.75      4945\n",
      "\n"
     ]
    }
   ],
   "source": [
    "test_predictions = svc_model.predict(X_test_scaled)\n",
    "print(report(y_test, test_predictions, svc_model.classes_ ))"
   ]
  },
  {
   "cell_type": "code",
   "execution_count": 114,
   "metadata": {},
   "outputs": [
    {
     "data": {
      "text/plain": [
       "<matplotlib.axes._subplots.AxesSubplot at 0x15028e7feb8>"
      ]
     },
     "execution_count": 114,
     "metadata": {},
     "output_type": "execute_result"
    },
    {
     "data": {
      "image/png": "[encoded data removed]",
      "text/plain": [
       "<Figure size 432x288 with 1 Axes>"
      ]
     },
     "metadata": {
      "needs_background": "light"
     },
     "output_type": "display_data"
    }
   ],
   "source": [
    "skplt.metrics.plot_roc(y_test, svc_model.predict_proba(X_test_scaled)) "
   ]
  },
  {
   "cell_type": "markdown",
   "metadata": {},
   "source": [
    "We have used 'Multi Layer Perceptron', 'Logistic Regression', 'XgBoost', 'Random Forest', 'Naive Bayes', and 'SVM'  because they prove to perform best for processing sentiment prediction based on text data"
   ]
  },
  {
   "cell_type": "markdown",
   "metadata": {},
   "source": [
    "## Comaparison of accuracy of Above algorithms"
   ]
  },
  {
   "cell_type": "code",
   "execution_count": 3,
   "metadata": {},
   "outputs": [
    {
     "data": {
      "image/png": "[encoded data removed]",
      "text/plain": [
       "<Figure size 432x288 with 1 Axes>"
      ]
     },
     "metadata": {
      "needs_background": "dark"
     },
     "output_type": "display_data"
    }
   ],
   "source": [
    "# libraries\n",
    "import numpy as np\n",
    "import matplotlib.pyplot as plt\n",
    " \n",
    "# Choose the height of the bars\n",
    "accuracy = [.800, .837, .838, .813, .809, .818]\n",
    "plt.ylabel(\"Accuracy\")\n",
    " \n",
    "# Choose the names of the bars\n",
    "bars = ('Multi Layer Perceptron', 'Logistic Regression', 'XgBoost', 'Random Forest', 'Naive Bayes', 'SVM')\n",
    "y_pos = np.arange(len(bars))\n",
    " \n",
    "# Create bars\n",
    "plt.bar(y_pos, accuracy)\n",
    " \n",
    "# Create names on the x-axis\n",
    "plt.xticks(y_pos, bars, color='orange', rotation=90)\n",
    "plt.yticks(color='orange')\n",
    " \n",
    "# Show graphic\n",
    "plt.show()"
   ]
  }
 ],
 "metadata": {
  "kernelspec": {
   "display_name": "Python 3",
   "language": "python",
   "name": "python3"
  },
  "language_info": {
   "codemirror_mode": {
    "name": "ipython",
    "version": 3
   },
   "file_extension": ".py",
   "mimetype": "text/x-python",
   "name": "python",
   "nbconvert_exporter": "python",
   "pygments_lexer": "ipython3",
   "version": "3.6.10"
  }
 },
 "nbformat": 4,
 "nbformat_minor": 1
}
